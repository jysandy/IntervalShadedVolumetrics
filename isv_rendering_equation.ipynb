{
 "cells": [
  {
   "cell_type": "code",
   "execution_count": 1,
   "id": "6f2d7016-8cce-4147-924a-9ff23d25effa",
   "metadata": {},
   "outputs": [],
   "source": [
    "O_min, O_max, z_min, z_max, u, d, alpha = var('O_min O_max z_min z_max u d alpha')"
   ]
  },
  {
   "cell_type": "code",
   "execution_count": 2,
   "id": "6cc149e9-6952-4499-8ce7-ffb586f8ff3a",
   "metadata": {},
   "outputs": [],
   "source": [
    "T_V(z_min, z) = function('T_V')(z_min, z)"
   ]
  },
  {
   "cell_type": "code",
   "execution_count": 3,
   "id": "61a176e0-0ad8-48cd-8b61-b542a58034b4",
   "metadata": {},
   "outputs": [],
   "source": [
    "T_L(z) = function('T_L')(z)"
   ]
  },
  {
   "cell_type": "code",
   "execution_count": 4,
   "id": "e27a8445-e8cd-424e-8b8d-dff0dac141ed",
   "metadata": {},
   "outputs": [],
   "source": [
    "sigma_t(x) = function('sigma_t')(x)"
   ]
  },
  {
   "cell_type": "code",
   "execution_count": 5,
   "id": "c2af1aa1-17d7-4f82-b62c-2aed9916315a",
   "metadata": {},
   "outputs": [],
   "source": [
    "def rendering_integral():\n",
    "    return integral(sigma_t(z) * T_V(z_min, z) * T_L(z), z, z_min, var('z_max'), hold=True)"
   ]
  },
  {
   "cell_type": "code",
   "execution_count": 6,
   "id": "d7379c3e-6ced-451b-9e1f-017473ea1373",
   "metadata": {},
   "outputs": [
    {
     "data": {
      "text/html": [
       "<html>\\(\\displaystyle \\int_{z_{\\mathit{min}}}^{z_{\\mathit{max}}} T_{L}\\left(z\\right) T_{V}\\left(z_{\\mathit{min}}, z\\right) \\sigma_{t}\\left(z\\right)\\,{d z}\\)</html>"
      ],
      "text/latex": [
       "$\\displaystyle \\int_{z_{\\mathit{min}}}^{z_{\\mathit{max}}} T_{L}\\left(z\\right) T_{V}\\left(z_{\\mathit{min}}, z\\right) \\sigma_{t}\\left(z\\right)\\,{d z}$"
      ],
      "text/plain": [
       "integrate(T_L(z)*T_V(z_min, z)*sigma_t(z), z, z_min, z_max)"
      ]
     },
     "metadata": {},
     "output_type": "display_data"
    }
   ],
   "source": [
    "pretty_print(rendering_integral())"
   ]
  },
  {
   "cell_type": "markdown",
   "id": "1d3a991d-9be2-43de-9373-20926596db8a",
   "metadata": {},
   "source": [
    "## Basic rendering equation"
   ]
  },
  {
   "cell_type": "code",
   "execution_count": 7,
   "id": "a1c88e45-3105-4cdf-b82e-be029288e455",
   "metadata": {},
   "outputs": [],
   "source": [
    "def transmittance(f, lower_limit, upper_limit):\n",
    "    return exp(-integral(f(x), x, lower_limit, upper_limit, hold=True))"
   ]
  },
  {
   "cell_type": "code",
   "execution_count": 8,
   "id": "a83969cf-32e2-4113-aeab-20f7975583cb",
   "metadata": {},
   "outputs": [
    {
     "data": {
      "text/plain": [
       "sigma"
      ]
     },
     "execution_count": 8,
     "metadata": {},
     "output_type": "execute_result"
    }
   ],
   "source": [
    "extinction = var('sigma'); extinction"
   ]
  },
  {
   "cell_type": "code",
   "execution_count": 9,
   "id": "4833e035-7b1b-4636-904b-36d219d1639a",
   "metadata": {},
   "outputs": [],
   "source": [
    "sigma_t(x) = extinction"
   ]
  },
  {
   "cell_type": "code",
   "execution_count": 10,
   "id": "8ae80d61-f7be-44f0-b5f2-d1ac49bd6238",
   "metadata": {},
   "outputs": [
    {
     "data": {
      "text/html": [
       "<html>\\(\\displaystyle \\left( z_{\\mathit{min}}, z \\right) \\ {\\mapsto} \\ e^{\\left(-\\int_{z_{\\mathit{min}}}^{z} \\sigma\\,{d x}\\right)}\\)</html>"
      ],
      "text/latex": [
       "$\\displaystyle \\left( z_{\\mathit{min}}, z \\right) \\ {\\mapsto} \\ e^{\\left(-\\int_{z_{\\mathit{min}}}^{z} \\sigma\\,{d x}\\right)}$"
      ],
      "text/plain": [
       "(z_min, z) |--> e^(-integrate(sigma, x, z_min, z))"
      ]
     },
     "metadata": {},
     "output_type": "display_data"
    }
   ],
   "source": [
    "T_V(z_min, z) = transmittance(sigma_t, z_min, z); pretty_print(T_V)"
   ]
  },
  {
   "cell_type": "code",
   "execution_count": 11,
   "id": "ae93679e-4cf0-4b82-b0e9-e10f0676dfaf",
   "metadata": {},
   "outputs": [
    {
     "data": {
      "text/html": [
       "<html>\\(\\displaystyle z \\ {\\mapsto}\\ 1\\)</html>"
      ],
      "text/latex": [
       "$\\displaystyle z \\ {\\mapsto}\\ 1$"
      ],
      "text/plain": [
       "z |--> 1"
      ]
     },
     "metadata": {},
     "output_type": "display_data"
    }
   ],
   "source": [
    "T_L(z) = 1; pretty_print(T_L)"
   ]
  },
  {
   "cell_type": "code",
   "execution_count": 12,
   "id": "6b7949fb-2383-4cb8-bf5a-b831cb45ae7f",
   "metadata": {},
   "outputs": [
    {
     "data": {
      "text/html": [
       "<html>\\(\\displaystyle {\\left(e^{\\left(\\sigma z_{\\mathit{max}}\\right)} - e^{\\left(\\sigma z_{\\mathit{min}}\\right)}\\right)} e^{\\left(-\\sigma z_{\\mathit{max}}\\right)}\\)</html>"
      ],
      "text/latex": [
       "$\\displaystyle {\\left(e^{\\left(\\sigma z_{\\mathit{max}}\\right)} - e^{\\left(\\sigma z_{\\mathit{min}}\\right)}\\right)} e^{\\left(-\\sigma z_{\\mathit{max}}\\right)}$"
      ],
      "text/plain": [
       "(e^(sigma*z_max) - e^(sigma*z_min))*e^(-sigma*z_max)"
      ]
     },
     "metadata": {},
     "output_type": "display_data"
    }
   ],
   "source": [
    "pretty_print(rendering_integral().simplify_full())"
   ]
  },
  {
   "cell_type": "markdown",
   "id": "119d09af-07d0-4df4-b550-46b5ba8c3a0c",
   "metadata": {},
   "source": [
    "## Rendering equation with self-shadowing"
   ]
  },
  {
   "cell_type": "code",
   "execution_count": 13,
   "id": "d180e75b-cc71-4167-972a-40345e632ed9",
   "metadata": {},
   "outputs": [],
   "source": [
    "def light_ray_optical_thickness(z):\n",
    "    return O_min + ((z - z_min) / (z_max - z_min)) * (O_max - O_min)"
   ]
  },
  {
   "cell_type": "code",
   "execution_count": 14,
   "id": "7e1b29ba-fce3-4f22-827e-252a48e312aa",
   "metadata": {},
   "outputs": [
    {
     "data": {
      "text/html": [
       "<html>\\(\\displaystyle z \\ {\\mapsto}\\ e^{\\left(-O_{\\mathit{min}} - \\frac{{\\left(O_{\\mathit{max}} - O_{\\mathit{min}}\\right)} {\\left(z - z_{\\mathit{min}}\\right)}}{z_{\\mathit{max}} - z_{\\mathit{min}}}\\right)}\\)</html>"
      ],
      "text/latex": [
       "$\\displaystyle z \\ {\\mapsto}\\ e^{\\left(-O_{\\mathit{min}} - \\frac{{\\left(O_{\\mathit{max}} - O_{\\mathit{min}}\\right)} {\\left(z - z_{\\mathit{min}}\\right)}}{z_{\\mathit{max}} - z_{\\mathit{min}}}\\right)}$"
      ],
      "text/plain": [
       "z |--> e^(-O_min - (O_max - O_min)*(z - z_min)/(z_max - z_min))"
      ]
     },
     "metadata": {},
     "output_type": "display_data"
    }
   ],
   "source": [
    "T_L(z) = exp(-light_ray_optical_thickness(z)); pretty_print(T_L)"
   ]
  },
  {
   "cell_type": "code",
   "execution_count": 15,
   "id": "9a58bdf9-bfba-4444-b679-838176841b2f",
   "metadata": {},
   "outputs": [
    {
     "data": {
      "text/html": [
       "<html>\\(\\displaystyle \\frac{\\sigma {\\left(z_{\\mathit{max}} - z_{\\mathit{min}}\\right)} {\\left(e^{\\left(\\sigma z_{\\mathit{max}} + O_{\\mathit{max}}\\right)} - e^{\\left(\\sigma z_{\\mathit{min}} + O_{\\mathit{min}}\\right)}\\right)} e^{\\left(-\\sigma z_{\\mathit{max}} - O_{\\mathit{max}} - O_{\\mathit{min}}\\right)}}{\\sigma z_{\\mathit{max}} - \\sigma z_{\\mathit{min}} + O_{\\mathit{max}} - O_{\\mathit{min}}}\\)</html>"
      ],
      "text/latex": [
       "$\\displaystyle \\frac{\\sigma {\\left(z_{\\mathit{max}} - z_{\\mathit{min}}\\right)} {\\left(e^{\\left(\\sigma z_{\\mathit{max}} + O_{\\mathit{max}}\\right)} - e^{\\left(\\sigma z_{\\mathit{min}} + O_{\\mathit{min}}\\right)}\\right)} e^{\\left(-\\sigma z_{\\mathit{max}} - O_{\\mathit{max}} - O_{\\mathit{min}}\\right)}}{\\sigma z_{\\mathit{max}} - \\sigma z_{\\mathit{min}} + O_{\\mathit{max}} - O_{\\mathit{min}}}$"
      ],
      "text/plain": [
       "sigma*(z_max - z_min)*(e^(sigma*z_max + O_max) - e^(sigma*z_min + O_min))*e^(-sigma*z_max - O_max - O_min)/(sigma*z_max - sigma*z_min + O_max - O_min)"
      ]
     },
     "metadata": {},
     "output_type": "display_data"
    }
   ],
   "source": [
    "pretty_print(rendering_integral().factor())"
   ]
  },
  {
   "cell_type": "markdown",
   "id": "905f4547-6215-4a4f-98c0-01b32e59ac17",
   "metadata": {},
   "source": [
    "## Extinction falloff"
   ]
  },
  {
   "cell_type": "code",
   "execution_count": 16,
   "id": "71c02e60-2fca-40d0-bca3-711bc3f860bc",
   "metadata": {},
   "outputs": [],
   "source": [
    "falloff(l) = exp(-5 * l ^ 2 / u ^ 2)"
   ]
  },
  {
   "cell_type": "code",
   "execution_count": 17,
   "id": "021977dc-8f20-4b33-8704-6277cfe5e6ad",
   "metadata": {},
   "outputs": [],
   "source": [
    "#falloff(l) = 1 / (1 + (3 * l^2) / u); pretty_print(falloff)"
   ]
  },
  {
   "cell_type": "code",
   "execution_count": 18,
   "id": "7e07a531-8696-4b4f-86e9-adc7776685c7",
   "metadata": {},
   "outputs": [],
   "source": [
    "def extinction(z, sigma):\n",
    "    l = sqrt(d^2 + (z - z_min)^2 - 2 * d * (z-z_min) * cos(alpha))\n",
    "    ext = sigma * falloff(l)    \n",
    "    return ext"
   ]
  },
  {
   "cell_type": "markdown",
   "id": "aeb39eb5-5272-4d7d-8363-2a721e6e942c",
   "metadata": {},
   "source": [
    "## Rendering equation with self-shadowing and extinction fading"
   ]
  },
  {
   "cell_type": "code",
   "execution_count": 19,
   "id": "3683f646-de75-4dba-a8d6-491ffad5a4dc",
   "metadata": {},
   "outputs": [
    {
     "data": {
      "text/html": [
       "<html>\\(\\displaystyle \\sigma e^{\\left(\\frac{5 \\, {\\left(2 \\, d {\\left(z - z_{\\mathit{min}}\\right)} \\cos\\left(\\alpha\\right) - d^{2} - {\\left(z - z_{\\mathit{min}}\\right)}^{2}\\right)}}{u^{2}}\\right)}\\)</html>"
      ],
      "text/latex": [
       "$\\displaystyle \\sigma e^{\\left(\\frac{5 \\, {\\left(2 \\, d {\\left(z - z_{\\mathit{min}}\\right)} \\cos\\left(\\alpha\\right) - d^{2} - {\\left(z - z_{\\mathit{min}}\\right)}^{2}\\right)}}{u^{2}}\\right)}$"
      ],
      "text/plain": [
       "sigma*e^(5*(2*d*(z - z_min)*cos(alpha) - d^2 - (z - z_min)^2)/u^2)"
      ]
     },
     "metadata": {},
     "output_type": "display_data"
    }
   ],
   "source": [
    "pretty_print(extinction(z, var('sigma')))"
   ]
  },
  {
   "cell_type": "code",
   "execution_count": 20,
   "id": "007f084e-763d-45e2-9e01-19d3b5161f69",
   "metadata": {},
   "outputs": [
    {
     "data": {
      "text/html": [
       "<html>\\(\\displaystyle z \\ {\\mapsto}\\ \\sigma e^{\\left(\\frac{5 \\, {\\left(2 \\, d {\\left(z - z_{\\mathit{min}}\\right)} \\cos\\left(\\alpha\\right) - d^{2} - {\\left(z - z_{\\mathit{min}}\\right)}^{2}\\right)}}{u^{2}}\\right)}\\)</html>"
      ],
      "text/latex": [
       "$\\displaystyle z \\ {\\mapsto}\\ \\sigma e^{\\left(\\frac{5 \\, {\\left(2 \\, d {\\left(z - z_{\\mathit{min}}\\right)} \\cos\\left(\\alpha\\right) - d^{2} - {\\left(z - z_{\\mathit{min}}\\right)}^{2}\\right)}}{u^{2}}\\right)}$"
      ],
      "text/plain": [
       "z |--> sigma*e^(5*(2*d*(z - z_min)*cos(alpha) - d^2 - (z - z_min)^2)/u^2)"
      ]
     },
     "metadata": {},
     "output_type": "display_data"
    }
   ],
   "source": [
    "sigma_t(z) = extinction(z, var('sigma')); pretty_print(sigma_t)"
   ]
  },
  {
   "cell_type": "code",
   "execution_count": 21,
   "id": "2686635e-36e6-4be6-a405-29bd8d980de9",
   "metadata": {},
   "outputs": [
    {
     "data": {
      "text/html": [
       "<html>\\(\\displaystyle \\left( z_{\\mathit{min}}, z \\right) \\ {\\mapsto} \\ e^{\\left(-\\int_{z_{\\mathit{min}}}^{z} \\sigma e^{\\left(\\frac{5 \\, {\\left(2 \\, d {\\left(x - z_{\\mathit{min}}\\right)} \\cos\\left(\\alpha\\right) - d^{2} - {\\left(x - z_{\\mathit{min}}\\right)}^{2}\\right)}}{u^{2}}\\right)}\\,{d x}\\right)}\\)</html>"
      ],
      "text/latex": [
       "$\\displaystyle \\left( z_{\\mathit{min}}, z \\right) \\ {\\mapsto} \\ e^{\\left(-\\int_{z_{\\mathit{min}}}^{z} \\sigma e^{\\left(\\frac{5 \\, {\\left(2 \\, d {\\left(x - z_{\\mathit{min}}\\right)} \\cos\\left(\\alpha\\right) - d^{2} - {\\left(x - z_{\\mathit{min}}\\right)}^{2}\\right)}}{u^{2}}\\right)}\\,{d x}\\right)}$"
      ],
      "text/plain": [
       "(z_min, z) |--> e^(-integrate(sigma*e^(5*(2*d*(x - z_min)*cos(alpha) - d^2 - (x - z_min)^2)/u^2), x, z_min, z))"
      ]
     },
     "metadata": {},
     "output_type": "display_data"
    }
   ],
   "source": [
    "T_V(z_min, z) = transmittance(sigma_t, z_min, z); pretty_print(T_V)"
   ]
  },
  {
   "cell_type": "code",
   "execution_count": 22,
   "id": "991c72b3-6020-4731-a1d6-262915f72bc8",
   "metadata": {},
   "outputs": [],
   "source": [
    "assume(z_max > z_min)"
   ]
  },
  {
   "cell_type": "code",
   "execution_count": 23,
   "id": "c7734e98-3655-49be-a063-189e7b7c4f21",
   "metadata": {},
   "outputs": [],
   "source": [
    "assume(u > 0)"
   ]
  },
  {
   "cell_type": "code",
   "execution_count": 24,
   "id": "5c9a0cee-fc06-4f5a-a63d-91eb2986ae2e",
   "metadata": {},
   "outputs": [],
   "source": [
    "assume(z_min <= z <= z_max)"
   ]
  },
  {
   "cell_type": "code",
   "execution_count": 25,
   "id": "248aa7be-ee92-4c11-9d29-762354602c09",
   "metadata": {},
   "outputs": [],
   "source": [
    "assume(O_max - O_min + z_max - z_min > 0)"
   ]
  },
  {
   "cell_type": "code",
   "execution_count": 26,
   "id": "123d168f-8d9a-4521-b424-ecb33eae964e",
   "metadata": {},
   "outputs": [
    {
     "data": {
      "text/html": [
       "<html>\\(\\displaystyle z \\ {\\mapsto}\\ e^{\\left(-O_{\\mathit{min}} - \\frac{{\\left(O_{\\mathit{max}} - O_{\\mathit{min}}\\right)} {\\left(z - z_{\\mathit{min}}\\right)}}{z_{\\mathit{max}} - z_{\\mathit{min}}}\\right)}\\)</html>"
      ],
      "text/latex": [
       "$\\displaystyle z \\ {\\mapsto}\\ e^{\\left(-O_{\\mathit{min}} - \\frac{{\\left(O_{\\mathit{max}} - O_{\\mathit{min}}\\right)} {\\left(z - z_{\\mathit{min}}\\right)}}{z_{\\mathit{max}} - z_{\\mathit{min}}}\\right)}$"
      ],
      "text/plain": [
       "z |--> e^(-O_min - (O_max - O_min)*(z - z_min)/(z_max - z_min))"
      ]
     },
     "metadata": {},
     "output_type": "display_data"
    }
   ],
   "source": [
    "T_L(z) = exp(-light_ray_optical_thickness(z)); pretty_print(T_L)"
   ]
  },
  {
   "cell_type": "code",
   "execution_count": 27,
   "id": "8cc3871a-5503-4013-8663-464533bfa2fd",
   "metadata": {},
   "outputs": [],
   "source": [
    "#pretty_print(T_L(z).simplify())"
   ]
  },
  {
   "cell_type": "code",
   "execution_count": 28,
   "id": "01b9514a-f5f6-491c-ba95-5c11ec872063",
   "metadata": {},
   "outputs": [],
   "source": [
    "final_equation = rendering_integral()"
   ]
  },
  {
   "cell_type": "code",
   "execution_count": 29,
   "id": "7e2ed529-8d4f-4433-a3ab-723cb990f071",
   "metadata": {},
   "outputs": [
    {
     "data": {
      "text/html": [
       "<html>\\(\\displaystyle \\int_{z_{\\mathit{min}}}^{z_{\\mathit{max}}} \\sigma e^{\\left(-O_{\\mathit{min}} - \\frac{{\\left(O_{\\mathit{max}} - O_{\\mathit{min}}\\right)} {\\left(z - z_{\\mathit{min}}\\right)}}{z_{\\mathit{max}} - z_{\\mathit{min}}} + \\frac{5 \\, {\\left(2 \\, d {\\left(z - z_{\\mathit{min}}\\right)} \\cos\\left(\\alpha\\right) - d^{2} - {\\left(z - z_{\\mathit{min}}\\right)}^{2}\\right)}}{u^{2}} - \\int_{z_{\\mathit{min}}}^{z} \\sigma e^{\\left(\\frac{5 \\, {\\left(2 \\, d {\\left(x - z_{\\mathit{min}}\\right)} \\cos\\left(\\alpha\\right) - d^{2} - {\\left(x - z_{\\mathit{min}}\\right)}^{2}\\right)}}{u^{2}}\\right)}\\,{d x}\\right)}\\,{d z}\\)</html>"
      ],
      "text/latex": [
       "$\\displaystyle \\int_{z_{\\mathit{min}}}^{z_{\\mathit{max}}} \\sigma e^{\\left(-O_{\\mathit{min}} - \\frac{{\\left(O_{\\mathit{max}} - O_{\\mathit{min}}\\right)} {\\left(z - z_{\\mathit{min}}\\right)}}{z_{\\mathit{max}} - z_{\\mathit{min}}} + \\frac{5 \\, {\\left(2 \\, d {\\left(z - z_{\\mathit{min}}\\right)} \\cos\\left(\\alpha\\right) - d^{2} - {\\left(z - z_{\\mathit{min}}\\right)}^{2}\\right)}}{u^{2}} - \\int_{z_{\\mathit{min}}}^{z} \\sigma e^{\\left(\\frac{5 \\, {\\left(2 \\, d {\\left(x - z_{\\mathit{min}}\\right)} \\cos\\left(\\alpha\\right) - d^{2} - {\\left(x - z_{\\mathit{min}}\\right)}^{2}\\right)}}{u^{2}}\\right)}\\,{d x}\\right)}\\,{d z}$"
      ],
      "text/plain": [
       "integrate(sigma*e^(-O_min - (O_max - O_min)*(z - z_min)/(z_max - z_min) + 5*(2*d*(z - z_min)*cos(alpha) - d^2 - (z - z_min)^2)/u^2 - integrate(sigma*e^(5*(2*d*(x - z_min)*cos(alpha) - d^2 - (x - z_min)^2)/u^2), x, z_min, z)), z, z_min, z_max)"
      ]
     },
     "metadata": {},
     "output_type": "display_data"
    }
   ],
   "source": [
    "pretty_print(final_equation)"
   ]
  },
  {
   "cell_type": "code",
   "execution_count": 30,
   "id": "61a0f32a-e80b-4163-b550-ec341476b0aa",
   "metadata": {},
   "outputs": [],
   "source": [
    "shadow_t_v = T_V(z_min, z_max).simplify()"
   ]
  },
  {
   "cell_type": "code",
   "execution_count": 31,
   "id": "dac81428-45dc-4ae8-b573-747e25810460",
   "metadata": {},
   "outputs": [
    {
     "data": {
      "text/html": [
       "<html>\\(\\displaystyle e^{\\left(-\\frac{1}{10} \\, {\\left(\\sqrt{5} \\sqrt{\\pi} u \\operatorname{erf}\\left(\\frac{\\sqrt{5} d \\cos\\left(\\alpha\\right)}{u}\\right) e^{\\left(\\frac{5 \\, d^{2} \\cos\\left(\\alpha\\right)^{2}}{u^{2}} - \\frac{5 \\, d^{2}}{u^{2}}\\right)} - \\sqrt{5} \\sqrt{\\pi} u \\operatorname{erf}\\left(\\frac{\\sqrt{5} {\\left(d \\cos\\left(\\alpha\\right) - z_{\\mathit{max}} + z_{\\mathit{min}}\\right)}}{u}\\right) e^{\\left(\\frac{5 \\, d^{2} \\cos\\left(\\alpha\\right)^{2}}{u^{2}} - \\frac{5 \\, d^{2}}{u^{2}}\\right)}\\right)} \\sigma\\right)}\\)</html>"
      ],
      "text/latex": [
       "$\\displaystyle e^{\\left(-\\frac{1}{10} \\, {\\left(\\sqrt{5} \\sqrt{\\pi} u \\operatorname{erf}\\left(\\frac{\\sqrt{5} d \\cos\\left(\\alpha\\right)}{u}\\right) e^{\\left(\\frac{5 \\, d^{2} \\cos\\left(\\alpha\\right)^{2}}{u^{2}} - \\frac{5 \\, d^{2}}{u^{2}}\\right)} - \\sqrt{5} \\sqrt{\\pi} u \\operatorname{erf}\\left(\\frac{\\sqrt{5} {\\left(d \\cos\\left(\\alpha\\right) - z_{\\mathit{max}} + z_{\\mathit{min}}\\right)}}{u}\\right) e^{\\left(\\frac{5 \\, d^{2} \\cos\\left(\\alpha\\right)^{2}}{u^{2}} - \\frac{5 \\, d^{2}}{u^{2}}\\right)}\\right)} \\sigma\\right)}$"
      ],
      "text/plain": [
       "e^(-1/10*(sqrt(5)*sqrt(pi)*u*erf(sqrt(5)*d*cos(alpha)/u)*e^(5*d^2*cos(alpha)^2/u^2 - 5*d^2/u^2) - sqrt(5)*sqrt(pi)*u*erf(sqrt(5)*(d*cos(alpha) - z_max + z_min)/u)*e^(5*d^2*cos(alpha)^2/u^2 - 5*d^2/u^2))*sigma)"
      ]
     },
     "metadata": {},
     "output_type": "display_data"
    }
   ],
   "source": [
    "pretty_print(shadow_t_v)"
   ]
  },
  {
   "cell_type": "code",
   "execution_count": 32,
   "id": "68c7aaac-3c8f-4e95-8e61-0ecaaba45b3c",
   "metadata": {},
   "outputs": [
    {
     "data": {
      "text/html": [
       "<html>\\(\\displaystyle e^{\\left(-\\frac{1}{10} \\, \\sqrt{5} \\sqrt{\\pi} \\sigma u {\\left(\\operatorname{erf}\\left(\\frac{\\sqrt{5} d \\cos\\left(\\alpha\\right)}{u}\\right) - \\operatorname{erf}\\left(\\frac{\\sqrt{5} {\\left(d \\cos\\left(\\alpha\\right) - z_{\\mathit{max}} + z_{\\mathit{min}}\\right)}}{u}\\right)\\right)} e^{\\left(\\frac{5 \\, d^{2} \\cos\\left(\\alpha\\right)^{2}}{u^{2}} - \\frac{5 \\, d^{2}}{u^{2}}\\right)}\\right)}\\)</html>"
      ],
      "text/latex": [
       "$\\displaystyle e^{\\left(-\\frac{1}{10} \\, \\sqrt{5} \\sqrt{\\pi} \\sigma u {\\left(\\operatorname{erf}\\left(\\frac{\\sqrt{5} d \\cos\\left(\\alpha\\right)}{u}\\right) - \\operatorname{erf}\\left(\\frac{\\sqrt{5} {\\left(d \\cos\\left(\\alpha\\right) - z_{\\mathit{max}} + z_{\\mathit{min}}\\right)}}{u}\\right)\\right)} e^{\\left(\\frac{5 \\, d^{2} \\cos\\left(\\alpha\\right)^{2}}{u^{2}} - \\frac{5 \\, d^{2}}{u^{2}}\\right)}\\right)}$"
      ],
      "text/plain": [
       "e^(-1/10*sqrt(5)*sqrt(pi)*sigma*u*(erf(sqrt(5)*d*cos(alpha)/u) - erf(sqrt(5)*(d*cos(alpha) - z_max + z_min)/u))*e^(5*d^2*cos(alpha)^2/u^2 - 5*d^2/u^2))"
      ]
     },
     "metadata": {},
     "output_type": "display_data"
    }
   ],
   "source": [
    "pretty_print(exp(shadow_t_v.operands()[0].factor()))"
   ]
  },
  {
   "cell_type": "markdown",
   "id": "5b390b42-7a36-4785-afb1-388c5604f5e3",
   "metadata": {},
   "source": [
    "This is `Tv(z_min, z_max)` and should be used when drawing shadows and for the `Tv` term."
   ]
  },
  {
   "cell_type": "code",
   "execution_count": 33,
   "id": "bc13f289-fafb-4258-a55a-52d8eee6f060",
   "metadata": {},
   "outputs": [
    {
     "data": {
      "text/html": [
       "<html>\\(\\displaystyle e^{\\left(-\\frac{1}{10} \\, {\\left(\\sqrt{5} \\sqrt{\\pi} u \\operatorname{erf}\\left(\\frac{\\sqrt{5} d \\cos\\left(\\alpha\\right)}{u}\\right) e^{\\left(\\frac{5 \\, d^{2} \\cos\\left(\\alpha\\right)^{2}}{u^{2}} - \\frac{5 \\, d^{2}}{u^{2}}\\right)} - \\sqrt{5} \\sqrt{\\pi} u \\operatorname{erf}\\left(\\frac{\\sqrt{5} {\\left(d \\cos\\left(\\alpha\\right) - z + z_{\\mathit{min}}\\right)}}{u}\\right) e^{\\left(\\frac{5 \\, d^{2} \\cos\\left(\\alpha\\right)^{2}}{u^{2}} - \\frac{5 \\, d^{2}}{u^{2}}\\right)}\\right)} \\sigma\\right)}\\)</html>"
      ],
      "text/latex": [
       "$\\displaystyle e^{\\left(-\\frac{1}{10} \\, {\\left(\\sqrt{5} \\sqrt{\\pi} u \\operatorname{erf}\\left(\\frac{\\sqrt{5} d \\cos\\left(\\alpha\\right)}{u}\\right) e^{\\left(\\frac{5 \\, d^{2} \\cos\\left(\\alpha\\right)^{2}}{u^{2}} - \\frac{5 \\, d^{2}}{u^{2}}\\right)} - \\sqrt{5} \\sqrt{\\pi} u \\operatorname{erf}\\left(\\frac{\\sqrt{5} {\\left(d \\cos\\left(\\alpha\\right) - z + z_{\\mathit{min}}\\right)}}{u}\\right) e^{\\left(\\frac{5 \\, d^{2} \\cos\\left(\\alpha\\right)^{2}}{u^{2}} - \\frac{5 \\, d^{2}}{u^{2}}\\right)}\\right)} \\sigma\\right)}$"
      ],
      "text/plain": [
       "e^(-1/10*(sqrt(5)*sqrt(pi)*u*erf(sqrt(5)*d*cos(alpha)/u)*e^(5*d^2*cos(alpha)^2/u^2 - 5*d^2/u^2) - sqrt(5)*sqrt(pi)*u*erf(sqrt(5)*(d*cos(alpha) - z + z_min)/u)*e^(5*d^2*cos(alpha)^2/u^2 - 5*d^2/u^2))*sigma)"
      ]
     },
     "metadata": {},
     "output_type": "display_data"
    }
   ],
   "source": [
    "pretty_print(T_V(z_min, z).simplify())"
   ]
  },
  {
   "cell_type": "code",
   "execution_count": 34,
   "id": "6a889398-246d-43c9-b81e-c69c86f248f1",
   "metadata": {},
   "outputs": [],
   "source": [
    "#solved = final_equation.unhold().factor(); pretty_print(solved)"
   ]
  },
  {
   "cell_type": "markdown",
   "id": "b017a1dd-b4dd-473d-974d-5eef83dd31bf",
   "metadata": {},
   "source": [
    "## Taylor series integration"
   ]
  },
  {
   "cell_type": "code",
   "execution_count": 54,
   "id": "ed6b2ae9-6021-4e74-a83f-37c27829dea6",
   "metadata": {},
   "outputs": [],
   "source": [
    "f = function('f')(z)"
   ]
  },
  {
   "cell_type": "code",
   "execution_count": 70,
   "id": "6c0f0b03-c128-46a3-8067-7ca284ed0d3e",
   "metadata": {},
   "outputs": [
    {
     "data": {
      "text/html": [
       "<html>\\(\\displaystyle \\frac{1}{48} \\, {\\left(2 \\, z - z_{\\mathit{max}} + z_{\\mathit{min}}\\right)}^{3} \\mathrm{D}_{0, 0, 0}\\left(f\\right)\\left(\\frac{1}{2} \\, z_{\\mathit{max}} - \\frac{1}{2} \\, z_{\\mathit{min}}\\right) + \\frac{1}{8} \\, {\\left(2 \\, z - z_{\\mathit{max}} + z_{\\mathit{min}}\\right)}^{2} \\mathrm{D}_{0, 0}\\left(f\\right)\\left(\\frac{1}{2} \\, z_{\\mathit{max}} - \\frac{1}{2} \\, z_{\\mathit{min}}\\right) + \\frac{1}{2} \\, {\\left(2 \\, z - z_{\\mathit{max}} + z_{\\mathit{min}}\\right)} \\mathrm{D}_{0}\\left(f\\right)\\left(\\frac{1}{2} \\, z_{\\mathit{max}} - \\frac{1}{2} \\, z_{\\mathit{min}}\\right) + f\\left(\\frac{1}{2} \\, z_{\\mathit{max}} - \\frac{1}{2} \\, z_{\\mathit{min}}\\right)\\)</html>"
      ],
      "text/latex": [
       "$\\displaystyle \\frac{1}{48} \\, {\\left(2 \\, z - z_{\\mathit{max}} + z_{\\mathit{min}}\\right)}^{3} \\mathrm{D}_{0, 0, 0}\\left(f\\right)\\left(\\frac{1}{2} \\, z_{\\mathit{max}} - \\frac{1}{2} \\, z_{\\mathit{min}}\\right) + \\frac{1}{8} \\, {\\left(2 \\, z - z_{\\mathit{max}} + z_{\\mathit{min}}\\right)}^{2} \\mathrm{D}_{0, 0}\\left(f\\right)\\left(\\frac{1}{2} \\, z_{\\mathit{max}} - \\frac{1}{2} \\, z_{\\mathit{min}}\\right) + \\frac{1}{2} \\, {\\left(2 \\, z - z_{\\mathit{max}} + z_{\\mathit{min}}\\right)} \\mathrm{D}_{0}\\left(f\\right)\\left(\\frac{1}{2} \\, z_{\\mathit{max}} - \\frac{1}{2} \\, z_{\\mathit{min}}\\right) + f\\left(\\frac{1}{2} \\, z_{\\mathit{max}} - \\frac{1}{2} \\, z_{\\mathit{min}}\\right)$"
      ],
      "text/plain": [
       "1/48*(2*z - z_max + z_min)^3*D[0, 0, 0](f)(1/2*z_max - 1/2*z_min) + 1/8*(2*z - z_max + z_min)^2*D[0, 0](f)(1/2*z_max - 1/2*z_min) + 1/2*(2*z - z_max + z_min)*D[0](f)(1/2*z_max - 1/2*z_min) + f(1/2*z_max - 1/2*z_min)"
      ]
     },
     "metadata": {},
     "output_type": "display_data"
    }
   ],
   "source": [
    "taylor_series = f.taylor(z, (z_max - z_min) / 2, 3); pretty_print(taylor_series)"
   ]
  },
  {
   "cell_type": "code",
   "execution_count": 68,
   "id": "ed2d2b5c-d0d6-4ed9-8aa9-f22bb9ffd151",
   "metadata": {},
   "outputs": [
    {
     "data": {
      "text/html": [
       "<html>\\(\\displaystyle \\frac{1}{48} \\, z_{\\mathit{max}} z_{\\mathit{min}}^{3} \\mathrm{D}_{0, 0, 0}\\left(f\\right)\\left(\\frac{1}{2} \\, z_{\\mathit{max}} - \\frac{1}{2} \\, z_{\\mathit{min}}\\right) - \\frac{5}{24} \\, z_{\\mathit{min}}^{4} \\mathrm{D}_{0, 0, 0}\\left(f\\right)\\left(\\frac{1}{2} \\, z_{\\mathit{max}} - \\frac{1}{2} \\, z_{\\mathit{min}}\\right) + \\frac{13}{48} \\, {\\left(z_{\\mathit{max}} \\mathrm{D}_{0, 0, 0}\\left(f\\right)\\left(\\frac{1}{2} \\, z_{\\mathit{max}} - \\frac{1}{2} \\, z_{\\mathit{min}}\\right) - 2 \\, \\mathrm{D}_{0, 0}\\left(f\\right)\\left(\\frac{1}{2} \\, z_{\\mathit{max}} - \\frac{1}{2} \\, z_{\\mathit{min}}\\right)\\right)} z_{\\mathit{min}}^{3} + \\frac{1}{24} \\, z_{\\mathit{max}}^{3} \\mathrm{D}_{0, 0}\\left(f\\right)\\left(\\frac{1}{2} \\, z_{\\mathit{max}} - \\frac{1}{2} \\, z_{\\mathit{min}}\\right) + \\frac{1}{8} \\, z_{\\mathit{max}} z_{\\mathit{min}}^{2} \\mathrm{D}_{0, 0}\\left(f\\right)\\left(\\frac{1}{2} \\, z_{\\mathit{max}} - \\frac{1}{2} \\, z_{\\mathit{min}}\\right) - \\frac{1}{8} \\, {\\left(z_{\\mathit{max}}^{2} \\mathrm{D}_{0, 0, 0}\\left(f\\right)\\left(\\frac{1}{2} \\, z_{\\mathit{max}} - \\frac{1}{2} \\, z_{\\mathit{min}}\\right) - 4 \\, z_{\\mathit{max}} \\mathrm{D}_{0, 0}\\left(f\\right)\\left(\\frac{1}{2} \\, z_{\\mathit{max}} - \\frac{1}{2} \\, z_{\\mathit{min}}\\right) + 8 \\, \\mathrm{D}_{0}\\left(f\\right)\\left(\\frac{1}{2} \\, z_{\\mathit{max}} - \\frac{1}{2} \\, z_{\\mathit{min}}\\right)\\right)} z_{\\mathit{min}}^{2} + \\frac{1}{48} \\, {\\left(z_{\\mathit{max}}^{3} \\mathrm{D}_{0, 0, 0}\\left(f\\right)\\left(\\frac{1}{2} \\, z_{\\mathit{max}} - \\frac{1}{2} \\, z_{\\mathit{min}}\\right) - 6 \\, z_{\\mathit{max}}^{2} \\mathrm{D}_{0, 0}\\left(f\\right)\\left(\\frac{1}{2} \\, z_{\\mathit{max}} - \\frac{1}{2} \\, z_{\\mathit{min}}\\right) + 24 \\, z_{\\mathit{max}} \\mathrm{D}_{0}\\left(f\\right)\\left(\\frac{1}{2} \\, z_{\\mathit{max}} - \\frac{1}{2} \\, z_{\\mathit{min}}\\right)\\right)} z_{\\mathit{min}} + \\frac{1}{48} \\, {\\left(z_{\\mathit{max}}^{3} \\mathrm{D}_{0, 0, 0}\\left(f\\right)\\left(\\frac{1}{2} \\, z_{\\mathit{max}} - \\frac{1}{2} \\, z_{\\mathit{min}}\\right) + 24 \\, z_{\\mathit{max}} \\mathrm{D}_{0}\\left(f\\right)\\left(\\frac{1}{2} \\, z_{\\mathit{max}} - \\frac{1}{2} \\, z_{\\mathit{min}}\\right)\\right)} z_{\\mathit{min}} + z_{\\mathit{max}} f\\left(\\frac{1}{2} \\, z_{\\mathit{max}} - \\frac{1}{2} \\, z_{\\mathit{min}}\\right) - z_{\\mathit{min}} f\\left(\\frac{1}{2} \\, z_{\\mathit{max}} - \\frac{1}{2} \\, z_{\\mathit{min}}\\right)\\)</html>"
      ],
      "text/latex": [
       "$\\displaystyle \\frac{1}{48} \\, z_{\\mathit{max}} z_{\\mathit{min}}^{3} \\mathrm{D}_{0, 0, 0}\\left(f\\right)\\left(\\frac{1}{2} \\, z_{\\mathit{max}} - \\frac{1}{2} \\, z_{\\mathit{min}}\\right) - \\frac{5}{24} \\, z_{\\mathit{min}}^{4} \\mathrm{D}_{0, 0, 0}\\left(f\\right)\\left(\\frac{1}{2} \\, z_{\\mathit{max}} - \\frac{1}{2} \\, z_{\\mathit{min}}\\right) + \\frac{13}{48} \\, {\\left(z_{\\mathit{max}} \\mathrm{D}_{0, 0, 0}\\left(f\\right)\\left(\\frac{1}{2} \\, z_{\\mathit{max}} - \\frac{1}{2} \\, z_{\\mathit{min}}\\right) - 2 \\, \\mathrm{D}_{0, 0}\\left(f\\right)\\left(\\frac{1}{2} \\, z_{\\mathit{max}} - \\frac{1}{2} \\, z_{\\mathit{min}}\\right)\\right)} z_{\\mathit{min}}^{3} + \\frac{1}{24} \\, z_{\\mathit{max}}^{3} \\mathrm{D}_{0, 0}\\left(f\\right)\\left(\\frac{1}{2} \\, z_{\\mathit{max}} - \\frac{1}{2} \\, z_{\\mathit{min}}\\right) + \\frac{1}{8} \\, z_{\\mathit{max}} z_{\\mathit{min}}^{2} \\mathrm{D}_{0, 0}\\left(f\\right)\\left(\\frac{1}{2} \\, z_{\\mathit{max}} - \\frac{1}{2} \\, z_{\\mathit{min}}\\right) - \\frac{1}{8} \\, {\\left(z_{\\mathit{max}}^{2} \\mathrm{D}_{0, 0, 0}\\left(f\\right)\\left(\\frac{1}{2} \\, z_{\\mathit{max}} - \\frac{1}{2} \\, z_{\\mathit{min}}\\right) - 4 \\, z_{\\mathit{max}} \\mathrm{D}_{0, 0}\\left(f\\right)\\left(\\frac{1}{2} \\, z_{\\mathit{max}} - \\frac{1}{2} \\, z_{\\mathit{min}}\\right) + 8 \\, \\mathrm{D}_{0}\\left(f\\right)\\left(\\frac{1}{2} \\, z_{\\mathit{max}} - \\frac{1}{2} \\, z_{\\mathit{min}}\\right)\\right)} z_{\\mathit{min}}^{2} + \\frac{1}{48} \\, {\\left(z_{\\mathit{max}}^{3} \\mathrm{D}_{0, 0, 0}\\left(f\\right)\\left(\\frac{1}{2} \\, z_{\\mathit{max}} - \\frac{1}{2} \\, z_{\\mathit{min}}\\right) - 6 \\, z_{\\mathit{max}}^{2} \\mathrm{D}_{0, 0}\\left(f\\right)\\left(\\frac{1}{2} \\, z_{\\mathit{max}} - \\frac{1}{2} \\, z_{\\mathit{min}}\\right) + 24 \\, z_{\\mathit{max}} \\mathrm{D}_{0}\\left(f\\right)\\left(\\frac{1}{2} \\, z_{\\mathit{max}} - \\frac{1}{2} \\, z_{\\mathit{min}}\\right)\\right)} z_{\\mathit{min}} + \\frac{1}{48} \\, {\\left(z_{\\mathit{max}}^{3} \\mathrm{D}_{0, 0, 0}\\left(f\\right)\\left(\\frac{1}{2} \\, z_{\\mathit{max}} - \\frac{1}{2} \\, z_{\\mathit{min}}\\right) + 24 \\, z_{\\mathit{max}} \\mathrm{D}_{0}\\left(f\\right)\\left(\\frac{1}{2} \\, z_{\\mathit{max}} - \\frac{1}{2} \\, z_{\\mathit{min}}\\right)\\right)} z_{\\mathit{min}} + z_{\\mathit{max}} f\\left(\\frac{1}{2} \\, z_{\\mathit{max}} - \\frac{1}{2} \\, z_{\\mathit{min}}\\right) - z_{\\mathit{min}} f\\left(\\frac{1}{2} \\, z_{\\mathit{max}} - \\frac{1}{2} \\, z_{\\mathit{min}}\\right)$"
      ],
      "text/plain": [
       "1/48*z_max*z_min^3*D[0, 0, 0](f)(1/2*z_max - 1/2*z_min) - 5/24*z_min^4*D[0, 0, 0](f)(1/2*z_max - 1/2*z_min) + 13/48*(z_max*D[0, 0, 0](f)(1/2*z_max - 1/2*z_min) - 2*D[0, 0](f)(1/2*z_max - 1/2*z_min))*z_min^3 + 1/24*z_max^3*D[0, 0](f)(1/2*z_max - 1/2*z_min) + 1/8*z_max*z_min^2*D[0, 0](f)(1/2*z_max - 1/2*z_min) - 1/8*(z_max^2*D[0, 0, 0](f)(1/2*z_max - 1/2*z_min) - 4*z_max*D[0, 0](f)(1/2*z_max - 1/2*z_min) + 8*D[0](f)(1/2*z_max - 1/2*z_min))*z_min^2 + 1/48*(z_max^3*D[0, 0, 0](f)(1/2*z_max - 1/2*z_min) - 6*z_max^2*D[0, 0](f)(1/2*z_max - 1/2*z_min) + 24*z_max*D[0](f)(1/2*z_max - 1/2*z_min))*z_min + 1/48*(z_max^3*D[0, 0, 0](f)(1/2*z_max - 1/2*z_min) + 24*z_max*D[0](f)(1/2*z_max - 1/2*z_min))*z_min + z_max*f(1/2*z_max - 1/2*z_min) - z_min*f(1/2*z_max - 1/2*z_min)"
      ]
     },
     "metadata": {},
     "output_type": "display_data"
    }
   ],
   "source": [
    "integrated_taylor_series = integrate(taylor_series, z, z_min, z_max); pretty_print(integrated_taylor_series)"
   ]
  },
  {
   "cell_type": "markdown",
   "id": "c9416efc-2f8b-459d-9e08-def2191ba5ef",
   "metadata": {
    "jp-MarkdownHeadingCollapsed": true
   },
   "source": [
    "## Partially integrated rendering equation"
   ]
  },
  {
   "cell_type": "code",
   "execution_count": 40,
   "id": "28ba04b9-aa1f-47f5-86b8-48f439ecc959",
   "metadata": {},
   "outputs": [],
   "source": [
    "sigma_t(x) = function('sigma_t')(x)"
   ]
  },
  {
   "cell_type": "code",
   "execution_count": 36,
   "id": "fe9fc765-3776-407b-a8dc-9507342eb66d",
   "metadata": {},
   "outputs": [],
   "source": [
    "T_V(z_min, z) = function('T_V')(z_min, z)"
   ]
  },
  {
   "cell_type": "code",
   "execution_count": 41,
   "id": "02d38cb7-c49b-43a2-88b0-e28d82d3235d",
   "metadata": {},
   "outputs": [
    {
     "data": {
      "text/html": [
       "<html>\\(\\displaystyle \\int_{z_{\\mathit{min}}}^{z_{\\mathit{max}}} T_{V}\\left(z_{\\mathit{min}}, z\\right) e^{\\left(-O_{\\mathit{min}} - \\frac{{\\left(O_{\\mathit{max}} - O_{\\mathit{min}}\\right)} {\\left(z - z_{\\mathit{min}}\\right)}}{z_{\\mathit{max}} - z_{\\mathit{min}}}\\right)} \\sigma_{t}\\left(z\\right)\\,{d z}\\)</html>"
      ],
      "text/latex": [
       "$\\displaystyle \\int_{z_{\\mathit{min}}}^{z_{\\mathit{max}}} T_{V}\\left(z_{\\mathit{min}}, z\\right) e^{\\left(-O_{\\mathit{min}} - \\frac{{\\left(O_{\\mathit{max}} - O_{\\mathit{min}}\\right)} {\\left(z - z_{\\mathit{min}}\\right)}}{z_{\\mathit{max}} - z_{\\mathit{min}}}\\right)} \\sigma_{t}\\left(z\\right)\\,{d z}$"
      ],
      "text/plain": [
       "integrate(T_V(z_min, z)*e^(-O_min - (O_max - O_min)*(z - z_min)/(z_max - z_min))*sigma_t(z), z, z_min, z_max)"
      ]
     },
     "metadata": {},
     "output_type": "display_data"
    }
   ],
   "source": [
    "pretty_print(rendering_integral())"
   ]
  },
  {
   "cell_type": "code",
   "execution_count": 42,
   "id": "dc8c2737-ec9c-4bce-a792-f87786a0c532",
   "metadata": {},
   "outputs": [
    {
     "data": {
      "text/html": [
       "<html>\\(\\displaystyle e^{\\left(-O_{\\mathit{min}} + \\frac{O_{\\mathit{max}} z_{\\mathit{min}}}{z_{\\mathit{max}} - z_{\\mathit{min}}} - \\frac{O_{\\mathit{min}} z_{\\mathit{min}}}{z_{\\mathit{max}} - z_{\\mathit{min}}}\\right)} \\int_{z_{\\mathit{min}}}^{z_{\\mathit{max}}} T_{V}\\left(z_{\\mathit{min}}, z\\right) e^{\\left(-\\frac{O_{\\mathit{max}} z}{z_{\\mathit{max}} - z_{\\mathit{min}}} + \\frac{O_{\\mathit{min}} z}{z_{\\mathit{max}} - z_{\\mathit{min}}}\\right)} \\sigma_{t}\\left(z\\right)\\,{d z}\\)</html>"
      ],
      "text/latex": [
       "$\\displaystyle e^{\\left(-O_{\\mathit{min}} + \\frac{O_{\\mathit{max}} z_{\\mathit{min}}}{z_{\\mathit{max}} - z_{\\mathit{min}}} - \\frac{O_{\\mathit{min}} z_{\\mathit{min}}}{z_{\\mathit{max}} - z_{\\mathit{min}}}\\right)} \\int_{z_{\\mathit{min}}}^{z_{\\mathit{max}}} T_{V}\\left(z_{\\mathit{min}}, z\\right) e^{\\left(-\\frac{O_{\\mathit{max}} z}{z_{\\mathit{max}} - z_{\\mathit{min}}} + \\frac{O_{\\mathit{min}} z}{z_{\\mathit{max}} - z_{\\mathit{min}}}\\right)} \\sigma_{t}\\left(z\\right)\\,{d z}$"
      ],
      "text/plain": [
       "e^(-O_min + O_max*z_min/(z_max - z_min) - O_min*z_min/(z_max - z_min))*integrate(T_V(z_min, z)*e^(-O_max*z/(z_max - z_min) + O_min*z/(z_max - z_min))*sigma_t(z), z, z_min, z_max)"
      ]
     },
     "metadata": {},
     "output_type": "display_data"
    }
   ],
   "source": [
    "partial_equation = rendering_integral().unhold(); pretty_print(partial_equation)"
   ]
  },
  {
   "cell_type": "code",
   "execution_count": 44,
   "id": "c3706447-3273-4afa-9b3c-655f74cbef4d",
   "metadata": {},
   "outputs": [
    {
     "data": {
      "text/html": [
       "<html>\\(\\displaystyle z \\ {\\mapsto}\\ \\sigma e^{\\left(\\frac{5 \\, {\\left(2 \\, d {\\left(z - z_{\\mathit{min}}\\right)} \\cos\\left(\\alpha\\right) - d^{2} - {\\left(z - z_{\\mathit{min}}\\right)}^{2}\\right)}}{u^{2}}\\right)}\\)</html>"
      ],
      "text/latex": [
       "$\\displaystyle z \\ {\\mapsto}\\ \\sigma e^{\\left(\\frac{5 \\, {\\left(2 \\, d {\\left(z - z_{\\mathit{min}}\\right)} \\cos\\left(\\alpha\\right) - d^{2} - {\\left(z - z_{\\mathit{min}}\\right)}^{2}\\right)}}{u^{2}}\\right)}$"
      ],
      "text/plain": [
       "z |--> sigma*e^(5*(2*d*(z - z_min)*cos(alpha) - d^2 - (z - z_min)^2)/u^2)"
      ]
     },
     "metadata": {},
     "output_type": "display_data"
    }
   ],
   "source": [
    "sigma_t(z) = extinction(z, var('sigma')); pretty_print(sigma_t)"
   ]
  },
  {
   "cell_type": "code",
   "execution_count": 45,
   "id": "a9a2ac7f-ca9c-43b5-b86c-70efca57791c",
   "metadata": {},
   "outputs": [
    {
     "data": {
      "text/html": [
       "<html>\\(\\displaystyle \\left( z_{\\mathit{min}}, z \\right) \\ {\\mapsto} \\ e^{\\left(-\\int_{z_{\\mathit{min}}}^{z} \\sigma e^{\\left(\\frac{5 \\, {\\left(2 \\, d {\\left(x - z_{\\mathit{min}}\\right)} \\cos\\left(\\alpha\\right) - d^{2} - {\\left(x - z_{\\mathit{min}}\\right)}^{2}\\right)}}{u^{2}}\\right)}\\,{d x}\\right)}\\)</html>"
      ],
      "text/latex": [
       "$\\displaystyle \\left( z_{\\mathit{min}}, z \\right) \\ {\\mapsto} \\ e^{\\left(-\\int_{z_{\\mathit{min}}}^{z} \\sigma e^{\\left(\\frac{5 \\, {\\left(2 \\, d {\\left(x - z_{\\mathit{min}}\\right)} \\cos\\left(\\alpha\\right) - d^{2} - {\\left(x - z_{\\mathit{min}}\\right)}^{2}\\right)}}{u^{2}}\\right)}\\,{d x}\\right)}$"
      ],
      "text/plain": [
       "(z_min, z) |--> e^(-integrate(sigma*e^(5*(2*d*(x - z_min)*cos(alpha) - d^2 - (x - z_min)^2)/u^2), x, z_min, z))"
      ]
     },
     "metadata": {},
     "output_type": "display_data"
    }
   ],
   "source": [
    "T_V(z_min, z) = transmittance(sigma_t, z_min, z); pretty_print(T_V)"
   ]
  },
  {
   "cell_type": "code",
   "execution_count": 46,
   "id": "cda5dcc9-dec2-4054-89b4-b08987bc8590",
   "metadata": {},
   "outputs": [],
   "source": [
    "sigma_t(x) = function('sigma_t')(x)"
   ]
  },
  {
   "cell_type": "code",
   "execution_count": 47,
   "id": "b98133d9-de30-4098-a712-3649e1f40e17",
   "metadata": {},
   "outputs": [
    {
     "data": {
      "text/html": [
       "<html>\\(\\displaystyle \\int_{z_{\\mathit{min}}}^{z_{\\mathit{max}}} e^{\\left(-O_{\\mathit{min}} - \\frac{{\\left(O_{\\mathit{max}} - O_{\\mathit{min}}\\right)} {\\left(z - z_{\\mathit{min}}\\right)}}{z_{\\mathit{max}} - z_{\\mathit{min}}} - \\int_{z_{\\mathit{min}}}^{z} \\sigma e^{\\left(\\frac{5 \\, {\\left(2 \\, d {\\left(x - z_{\\mathit{min}}\\right)} \\cos\\left(\\alpha\\right) - d^{2} - {\\left(x - z_{\\mathit{min}}\\right)}^{2}\\right)}}{u^{2}}\\right)}\\,{d x}\\right)} \\sigma_{t}\\left(z\\right)\\,{d z}\\)</html>"
      ],
      "text/latex": [
       "$\\displaystyle \\int_{z_{\\mathit{min}}}^{z_{\\mathit{max}}} e^{\\left(-O_{\\mathit{min}} - \\frac{{\\left(O_{\\mathit{max}} - O_{\\mathit{min}}\\right)} {\\left(z - z_{\\mathit{min}}\\right)}}{z_{\\mathit{max}} - z_{\\mathit{min}}} - \\int_{z_{\\mathit{min}}}^{z} \\sigma e^{\\left(\\frac{5 \\, {\\left(2 \\, d {\\left(x - z_{\\mathit{min}}\\right)} \\cos\\left(\\alpha\\right) - d^{2} - {\\left(x - z_{\\mathit{min}}\\right)}^{2}\\right)}}{u^{2}}\\right)}\\,{d x}\\right)} \\sigma_{t}\\left(z\\right)\\,{d z}$"
      ],
      "text/plain": [
       "integrate(e^(-O_min - (O_max - O_min)*(z - z_min)/(z_max - z_min) - integrate(sigma*e^(5*(2*d*(x - z_min)*cos(alpha) - d^2 - (x - z_min)^2)/u^2), x, z_min, z))*sigma_t(z), z, z_min, z_max)"
      ]
     },
     "metadata": {},
     "output_type": "display_data"
    }
   ],
   "source": [
    "pretty_print(rendering_integral())"
   ]
  },
  {
   "cell_type": "code",
   "execution_count": 49,
   "id": "9241c564-c710-43fe-97bc-e03970ab18fa",
   "metadata": {},
   "outputs": [],
   "source": [
    "#partial_equation = rendering_integral().unhold(); pretty_print(partial_equation)"
   ]
  },
  {
   "cell_type": "markdown",
   "id": "a2585000-9f8d-4df9-92ae-425188405fdd",
   "metadata": {},
   "source": [
    "This didn't finish"
   ]
  },
  {
   "cell_type": "code",
   "execution_count": 50,
   "id": "8b46d37a-cb65-491b-9783-944444124cfa",
   "metadata": {},
   "outputs": [],
   "source": [
    "sigma_t(x) = function('sigma_t')(x)"
   ]
  },
  {
   "cell_type": "code",
   "execution_count": 51,
   "id": "8208a860-296b-4e5c-8a5d-339ba362a6e9",
   "metadata": {},
   "outputs": [
    {
     "data": {
      "text/html": [
       "<html>\\(\\displaystyle \\left( z_{\\mathit{min}}, z \\right) \\ {\\mapsto} \\ e^{\\left(-\\int_{z_{\\mathit{min}}}^{z} \\sigma_{t}\\left(x\\right)\\,{d x}\\right)}\\)</html>"
      ],
      "text/latex": [
       "$\\displaystyle \\left( z_{\\mathit{min}}, z \\right) \\ {\\mapsto} \\ e^{\\left(-\\int_{z_{\\mathit{min}}}^{z} \\sigma_{t}\\left(x\\right)\\,{d x}\\right)}$"
      ],
      "text/plain": [
       "(z_min, z) |--> e^(-integrate(sigma_t(x), x, z_min, z))"
      ]
     },
     "metadata": {},
     "output_type": "display_data"
    }
   ],
   "source": [
    "T_V(z_min, z) = transmittance(sigma_t, z_min, z); pretty_print(T_V)"
   ]
  },
  {
   "cell_type": "code",
   "execution_count": 52,
   "id": "0a6f0795-41f0-423e-99c0-eb4c37a91573",
   "metadata": {},
   "outputs": [
    {
     "data": {
      "text/html": [
       "<html>\\(\\displaystyle \\int_{z_{\\mathit{min}}}^{z_{\\mathit{max}}} e^{\\left(-O_{\\mathit{min}} - \\frac{{\\left(O_{\\mathit{max}} - O_{\\mathit{min}}\\right)} {\\left(z - z_{\\mathit{min}}\\right)}}{z_{\\mathit{max}} - z_{\\mathit{min}}} - \\int_{z_{\\mathit{min}}}^{z} \\sigma_{t}\\left(x\\right)\\,{d x}\\right)} \\sigma_{t}\\left(z\\right)\\,{d z}\\)</html>"
      ],
      "text/latex": [
       "$\\displaystyle \\int_{z_{\\mathit{min}}}^{z_{\\mathit{max}}} e^{\\left(-O_{\\mathit{min}} - \\frac{{\\left(O_{\\mathit{max}} - O_{\\mathit{min}}\\right)} {\\left(z - z_{\\mathit{min}}\\right)}}{z_{\\mathit{max}} - z_{\\mathit{min}}} - \\int_{z_{\\mathit{min}}}^{z} \\sigma_{t}\\left(x\\right)\\,{d x}\\right)} \\sigma_{t}\\left(z\\right)\\,{d z}$"
      ],
      "text/plain": [
       "integrate(e^(-O_min - (O_max - O_min)*(z - z_min)/(z_max - z_min) - integrate(sigma_t(x), x, z_min, z))*sigma_t(z), z, z_min, z_max)"
      ]
     },
     "metadata": {},
     "output_type": "display_data"
    }
   ],
   "source": [
    "pretty_print(rendering_integral())"
   ]
  },
  {
   "cell_type": "code",
   "execution_count": 53,
   "id": "26baa7c7-db77-4e09-9629-6f8983f205c5",
   "metadata": {},
   "outputs": [
    {
     "data": {
      "text/html": [
       "<html>\\(\\displaystyle e^{\\left(-O_{\\mathit{min}} + \\frac{O_{\\mathit{max}} z_{\\mathit{min}}}{z_{\\mathit{max}} - z_{\\mathit{min}}} - \\frac{O_{\\mathit{min}} z_{\\mathit{min}}}{z_{\\mathit{max}} - z_{\\mathit{min}}}\\right)} \\int_{z_{\\mathit{min}}}^{z_{\\mathit{max}}} e^{\\left(-\\frac{O_{\\mathit{max}} z}{z_{\\mathit{max}} - z_{\\mathit{min}}} + \\frac{O_{\\mathit{min}} z}{z_{\\mathit{max}} - z_{\\mathit{min}}} - \\int_{z_{\\mathit{min}}}^{z} \\sigma_{t}\\left(x\\right)\\,{d x}\\right)} \\sigma_{t}\\left(z\\right)\\,{d z}\\)</html>"
      ],
      "text/latex": [
       "$\\displaystyle e^{\\left(-O_{\\mathit{min}} + \\frac{O_{\\mathit{max}} z_{\\mathit{min}}}{z_{\\mathit{max}} - z_{\\mathit{min}}} - \\frac{O_{\\mathit{min}} z_{\\mathit{min}}}{z_{\\mathit{max}} - z_{\\mathit{min}}}\\right)} \\int_{z_{\\mathit{min}}}^{z_{\\mathit{max}}} e^{\\left(-\\frac{O_{\\mathit{max}} z}{z_{\\mathit{max}} - z_{\\mathit{min}}} + \\frac{O_{\\mathit{min}} z}{z_{\\mathit{max}} - z_{\\mathit{min}}} - \\int_{z_{\\mathit{min}}}^{z} \\sigma_{t}\\left(x\\right)\\,{d x}\\right)} \\sigma_{t}\\left(z\\right)\\,{d z}$"
      ],
      "text/plain": [
       "e^(-O_min + O_max*z_min/(z_max - z_min) - O_min*z_min/(z_max - z_min))*integrate(e^(-O_max*z/(z_max - z_min) + O_min*z/(z_max - z_min) - integrate(sigma_t(x), x, z_min, z))*sigma_t(z), z, z_min, z_max)"
      ]
     },
     "metadata": {},
     "output_type": "display_data"
    }
   ],
   "source": [
    "partial_equation = rendering_integral().unhold(); pretty_print(partial_equation)"
   ]
  }
 ],
 "metadata": {
  "kernelspec": {
   "display_name": "SageMath 10.6",
   "language": "sage",
   "name": "sagemath"
  },
  "language_info": {
   "codemirror_mode": {
    "name": "ipython",
    "version": 3
   },
   "file_extension": ".py",
   "mimetype": "text/x-python",
   "name": "python",
   "nbconvert_exporter": "python",
   "pygments_lexer": "ipython3",
   "version": "3.11.13"
  }
 },
 "nbformat": 4,
 "nbformat_minor": 5
}
