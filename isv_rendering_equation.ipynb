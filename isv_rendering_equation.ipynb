{
 "cells": [
  {
   "cell_type": "code",
   "execution_count": 1,
   "id": "6f2d7016-8cce-4147-924a-9ff23d25effa",
   "metadata": {},
   "outputs": [],
   "source": [
    "O_min, O_max, z_min, z_max, u, d, alpha, rho, R, p, V, C, C_o = var('tau_min tau_max z_min z_max u d alpha rho R p V C C_o')"
   ]
  },
  {
   "cell_type": "code",
   "execution_count": 2,
   "id": "6cc149e9-6952-4499-8ce7-ffb586f8ff3a",
   "metadata": {},
   "outputs": [],
   "source": [
    "T_V(z_min, z) = function('T_V')(z_min, z)"
   ]
  },
  {
   "cell_type": "code",
   "execution_count": 3,
   "id": "61a176e0-0ad8-48cd-8b61-b542a58034b4",
   "metadata": {},
   "outputs": [],
   "source": [
    "T_L(z) = function('T_L')(z)"
   ]
  },
  {
   "cell_type": "code",
   "execution_count": 4,
   "id": "e27a8445-e8cd-424e-8b8d-dff0dac141ed",
   "metadata": {},
   "outputs": [],
   "source": [
    "sigma_t(x) = function('sigma_t')(x)"
   ]
  },
  {
   "cell_type": "code",
   "execution_count": 5,
   "id": "8f077f56-e0cc-4d5f-93b8-ba246218f65e",
   "metadata": {},
   "outputs": [],
   "source": [
    "Vis(z) = function('Vis')(z)"
   ]
  },
  {
   "cell_type": "code",
   "execution_count": 6,
   "id": "6a76cca2-6abd-4503-92d2-b24c690bd909",
   "metadata": {},
   "outputs": [],
   "source": [
    "def rendering_integrand():\n",
    "    return Vis(z) * sigma_t(z) * T_V(z_min, z) * T_L(z)    "
   ]
  },
  {
   "cell_type": "code",
   "execution_count": 7,
   "id": "c2af1aa1-17d7-4f82-b62c-2aed9916315a",
   "metadata": {},
   "outputs": [],
   "source": [
    "def rendering_integral():\n",
    "    return integral(rendering_integrand(), z, z_min, z_max, hold=True)"
   ]
  },
  {
   "cell_type": "code",
   "execution_count": 8,
   "id": "d7379c3e-6ced-451b-9e1f-017473ea1373",
   "metadata": {},
   "outputs": [
    {
     "data": {
      "text/html": [
       "<html>\\(\\displaystyle \\int_{z_{\\mathit{min}}}^{z_{\\mathit{max}}} T_{L}\\left(z\\right) T_{V}\\left(z_{\\mathit{min}}, z\\right) {\\rm Vis}\\left(z\\right) \\sigma_{t}\\left(z\\right)\\,{d z}\\)</html>"
      ],
      "text/latex": [
       "$\\displaystyle \\int_{z_{\\mathit{min}}}^{z_{\\mathit{max}}} T_{L}\\left(z\\right) T_{V}\\left(z_{\\mathit{min}}, z\\right) {\\rm Vis}\\left(z\\right) \\sigma_{t}\\left(z\\right)\\,{d z}$"
      ],
      "text/plain": [
       "integrate(T_L(z)*T_V(z_min, z)*Vis(z)*sigma_t(z), z, z_min, z_max)"
      ]
     },
     "metadata": {},
     "output_type": "display_data"
    }
   ],
   "source": [
    "pretty_print(rendering_integral())"
   ]
  },
  {
   "cell_type": "code",
   "execution_count": 9,
   "id": "82e907f5-63ed-4fbc-8d55-b2b9a999561f",
   "metadata": {},
   "outputs": [],
   "source": [
    "p(L, V) = function('p')(L, V)"
   ]
  },
  {
   "cell_type": "code",
   "execution_count": 10,
   "id": "1d87d0ef-0d00-4b07-87a6-4ef52a551138",
   "metadata": {},
   "outputs": [],
   "source": [
    "def c_scat():\n",
    "    return rho * p(L, V) * R * rendering_integral()\n",
    "    "
   ]
  },
  {
   "cell_type": "code",
   "execution_count": 11,
   "id": "cac132f9-8772-4e01-afbd-d94e0d88c14f",
   "metadata": {},
   "outputs": [
    {
     "data": {
      "text/html": [
       "<html>\\(\\displaystyle C_{\\mathit{scat}} = R \\rho \\int_{z_{\\mathit{min}}}^{z_{\\mathit{max}}} T_{L}\\left(z\\right) T_{V}\\left(z_{\\mathit{min}}, z\\right) {\\rm Vis}\\left(z\\right) \\sigma_{t}\\left(z\\right)\\,{d z} p\\left(L, V\\right)\\)</html>"
      ],
      "text/latex": [
       "$\\displaystyle C_{\\mathit{scat}} = R \\rho \\int_{z_{\\mathit{min}}}^{z_{\\mathit{max}}} T_{L}\\left(z\\right) T_{V}\\left(z_{\\mathit{min}}, z\\right) {\\rm Vis}\\left(z\\right) \\sigma_{t}\\left(z\\right)\\,{d z} p\\left(L, V\\right)$"
      ],
      "text/plain": [
       "C_scat == R*rho*integrate(T_L(z)*T_V(z_min, z)*Vis(z)*sigma_t(z), z, z_min, z_max)*p(L, V)"
      ]
     },
     "metadata": {},
     "output_type": "display_data"
    }
   ],
   "source": [
    "pretty_print(var('C_scat') == c_scat())"
   ]
  },
  {
   "cell_type": "code",
   "execution_count": 12,
   "id": "0db64ffb-4329-4af3-81f4-5d264e5db6df",
   "metadata": {},
   "outputs": [
    {
     "data": {
      "text/plain": [
       "C_{\\mathit{scat}} = R \\rho \\int_{z_{\\mathit{min}}}^{z_{\\mathit{max}}} T_{L}\\left(z\\right) T_{V}\\left(z_{\\mathit{min}}, z\\right) {\\rm Vis}\\left(z\\right) \\sigma_{t}\\left(z\\right)\\,{d z} p\\left(L, V\\right)"
      ]
     },
     "execution_count": 12,
     "metadata": {},
     "output_type": "execute_result"
    }
   ],
   "source": [
    "latex(var('C_scat') == c_scat())"
   ]
  },
  {
   "cell_type": "code",
   "execution_count": 13,
   "id": "94b0b984-9f98-4572-8195-84300b3728b9",
   "metadata": {},
   "outputs": [],
   "source": [
    "def complete_rendering_equation():\n",
    "    return c_scat() + T_V(z_min, z_max) * C\n",
    "    "
   ]
  },
  {
   "cell_type": "code",
   "execution_count": 14,
   "id": "43be0050-d133-4314-ae7a-11805ec90e3e",
   "metadata": {},
   "outputs": [],
   "source": [
    "def original_rendering_equation():\n",
    "    return integral(rho * p(L, V) * R * rendering_integrand(), z, z_min, z_max, hold=True) + T_V(z_min, z_max) * C"
   ]
  },
  {
   "cell_type": "code",
   "execution_count": 15,
   "id": "4d49f193-8732-473c-989a-a6100e9a1004",
   "metadata": {},
   "outputs": [
    {
     "data": {
      "text/html": [
       "<html>\\(\\displaystyle C_{o} = R \\rho \\int_{z_{\\mathit{min}}}^{z_{\\mathit{max}}} T_{L}\\left(z\\right) T_{V}\\left(z_{\\mathit{min}}, z\\right) {\\rm Vis}\\left(z\\right) \\sigma_{t}\\left(z\\right)\\,{d z} p\\left(L, V\\right) + C T_{V}\\left(z_{\\mathit{min}}, z_{\\mathit{max}}\\right)\\)</html>"
      ],
      "text/latex": [
       "$\\displaystyle C_{o} = R \\rho \\int_{z_{\\mathit{min}}}^{z_{\\mathit{max}}} T_{L}\\left(z\\right) T_{V}\\left(z_{\\mathit{min}}, z\\right) {\\rm Vis}\\left(z\\right) \\sigma_{t}\\left(z\\right)\\,{d z} p\\left(L, V\\right) + C T_{V}\\left(z_{\\mathit{min}}, z_{\\mathit{max}}\\right)$"
      ],
      "text/plain": [
       "C_o == R*rho*integrate(T_L(z)*T_V(z_min, z)*Vis(z)*sigma_t(z), z, z_min, z_max)*p(L, V) + C*T_V(z_min, z_max)"
      ]
     },
     "metadata": {},
     "output_type": "display_data"
    }
   ],
   "source": [
    "pretty_print(C_o == complete_rendering_equation())"
   ]
  },
  {
   "cell_type": "code",
   "execution_count": 16,
   "id": "499dcacc-d9e5-41fa-9005-6c3f607505bc",
   "metadata": {},
   "outputs": [
    {
     "data": {
      "text/plain": [
       "C_{o} = R \\rho \\int_{z_{\\mathit{min}}}^{z_{\\mathit{max}}} T_{L}\\left(z\\right) T_{V}\\left(z_{\\mathit{min}}, z\\right) {\\rm Vis}\\left(z\\right) \\sigma_{t}\\left(z\\right)\\,{d z} p\\left(L, V\\right) + C T_{V}\\left(z_{\\mathit{min}}, z_{\\mathit{max}}\\right)"
      ]
     },
     "execution_count": 16,
     "metadata": {},
     "output_type": "execute_result"
    }
   ],
   "source": [
    "latex(C_o == complete_rendering_equation())"
   ]
  },
  {
   "cell_type": "code",
   "execution_count": 17,
   "id": "351b2d77-6e61-45a1-b80d-4c8cfff7269c",
   "metadata": {},
   "outputs": [
    {
     "data": {
      "text/html": [
       "<html>\\(\\displaystyle C_{o} = C T_{V}\\left(z_{\\mathit{min}}, z_{\\mathit{max}}\\right) + \\int_{z_{\\mathit{min}}}^{z_{\\mathit{max}}} R \\rho T_{L}\\left(z\\right) T_{V}\\left(z_{\\mathit{min}}, z\\right) {\\rm Vis}\\left(z\\right) p\\left(L, V\\right) \\sigma_{t}\\left(z\\right)\\,{d z}\\)</html>"
      ],
      "text/latex": [
       "$\\displaystyle C_{o} = C T_{V}\\left(z_{\\mathit{min}}, z_{\\mathit{max}}\\right) + \\int_{z_{\\mathit{min}}}^{z_{\\mathit{max}}} R \\rho T_{L}\\left(z\\right) T_{V}\\left(z_{\\mathit{min}}, z\\right) {\\rm Vis}\\left(z\\right) p\\left(L, V\\right) \\sigma_{t}\\left(z\\right)\\,{d z}$"
      ],
      "text/plain": [
       "C_o == C*T_V(z_min, z_max) + integrate(R*rho*T_L(z)*T_V(z_min, z)*Vis(z)*p(L, V)*sigma_t(z), z, z_min, z_max)"
      ]
     },
     "metadata": {},
     "output_type": "display_data"
    }
   ],
   "source": [
    "pretty_print( C_o == original_rendering_equation())"
   ]
  },
  {
   "cell_type": "code",
   "execution_count": 18,
   "id": "05feab0d-ddc9-46b9-ad8e-57bc2d0e3fff",
   "metadata": {},
   "outputs": [
    {
     "data": {
      "text/plain": [
       "C_{o} = C T_{V}\\left(z_{\\mathit{min}}, z_{\\mathit{max}}\\right) + \\int_{z_{\\mathit{min}}}^{z_{\\mathit{max}}} R \\rho T_{L}\\left(z\\right) T_{V}\\left(z_{\\mathit{min}}, z\\right) {\\rm Vis}\\left(z\\right) p\\left(L, V\\right) \\sigma_{t}\\left(z\\right)\\,{d z}"
      ]
     },
     "execution_count": 18,
     "metadata": {},
     "output_type": "execute_result"
    }
   ],
   "source": [
    "latex(C_o == original_rendering_equation())"
   ]
  },
  {
   "cell_type": "markdown",
   "id": "03323f1a-2e7c-4d03-b185-1a025c070fd0",
   "metadata": {},
   "source": [
    "## Equations for the report"
   ]
  },
  {
   "cell_type": "code",
   "execution_count": 19,
   "id": "6bffacfd-d8a9-4170-bd5a-ad159a196c44",
   "metadata": {},
   "outputs": [],
   "source": [
    "f = function('f')(z)"
   ]
  },
  {
   "cell_type": "code",
   "execution_count": 20,
   "id": "c28fb0a7-ac3f-4fa9-b740-e60eb7dc7d0f",
   "metadata": {},
   "outputs": [],
   "source": [
    "z1, z2, z3, z4 = var('z_1 z_2 z_3 z_4')"
   ]
  },
  {
   "cell_type": "code",
   "execution_count": 21,
   "id": "53fe39e9-a564-40d1-98d2-50718040d2b0",
   "metadata": {},
   "outputs": [],
   "source": [
    "def eqn(C, lower_limit, upper_limit):\n",
    "    K = var('K')\n",
    "    return K * integral(f * T_V(lower_limit, z), z, lower_limit, upper_limit) + C * T_V(lower_limit, upper_limit)"
   ]
  },
  {
   "cell_type": "code",
   "execution_count": 22,
   "id": "23e9d081-c4ce-4cd9-897b-aaadb0b3f245",
   "metadata": {},
   "outputs": [
    {
     "data": {
      "text/html": [
       "<html>\\(\\displaystyle {\\left(C T_{V}\\left(z_{3}, z_{4}\\right) + K \\int_{z_{3}}^{z_{4}} T_{V}\\left(z_{3}, z\\right) f\\left(z\\right)\\,{d z}\\right)} T_{V}\\left(z_{1}, z_{2}\\right) + K \\int_{z_{1}}^{z_{2}} T_{V}\\left(z_{1}, z\\right) f\\left(z\\right)\\,{d z}\\)</html>"
      ],
      "text/latex": [
       "$\\displaystyle {\\left(C T_{V}\\left(z_{3}, z_{4}\\right) + K \\int_{z_{3}}^{z_{4}} T_{V}\\left(z_{3}, z\\right) f\\left(z\\right)\\,{d z}\\right)} T_{V}\\left(z_{1}, z_{2}\\right) + K \\int_{z_{1}}^{z_{2}} T_{V}\\left(z_{1}, z\\right) f\\left(z\\right)\\,{d z}$"
      ],
      "text/plain": [
       "(C*T_V(z_3, z_4) + K*integrate(T_V(z_3, z)*f(z), z, z_3, z_4))*T_V(z_1, z_2) + K*integrate(T_V(z_1, z)*f(z), z, z_1, z_2)"
      ]
     },
     "metadata": {},
     "output_type": "display_data"
    },
    {
     "data": {
      "text/plain": [
       "{\\left(C T_{V}\\left(z_{3}, z_{4}\\right) + K \\int_{z_{3}}^{z_{4}} T_{V}\\left(z_{3}, z\\right) f\\left(z\\right)\\,{d z}\\right)} T_{V}\\left(z_{1}, z_{2}\\right) + K \\int_{z_{1}}^{z_{2}} T_{V}\\left(z_{1}, z\\right) f\\left(z\\right)\\,{d z}"
      ]
     },
     "execution_count": 22,
     "metadata": {},
     "output_type": "execute_result"
    }
   ],
   "source": [
    "step1 = eqn(eqn(C, z3, z4), z1, z2); pretty_print(step1); latex(step1)"
   ]
  },
  {
   "cell_type": "code",
   "execution_count": 23,
   "id": "377a75be-9f11-4575-8c64-04cba5f1690a",
   "metadata": {},
   "outputs": [
    {
     "data": {
      "text/html": [
       "<html>\\(\\displaystyle C T_{V}\\left(z_{1}, z_{2}\\right) T_{V}\\left(z_{3}, z_{4}\\right) + K T_{V}\\left(z_{1}, z_{2}\\right) \\int_{z_{3}}^{z_{4}} T_{V}\\left(z_{3}, z\\right) f\\left(z\\right)\\,{d z} + K \\int_{z_{1}}^{z_{2}} T_{V}\\left(z_{1}, z\\right) f\\left(z\\right)\\,{d z}\\)</html>"
      ],
      "text/latex": [
       "$\\displaystyle C T_{V}\\left(z_{1}, z_{2}\\right) T_{V}\\left(z_{3}, z_{4}\\right) + K T_{V}\\left(z_{1}, z_{2}\\right) \\int_{z_{3}}^{z_{4}} T_{V}\\left(z_{3}, z\\right) f\\left(z\\right)\\,{d z} + K \\int_{z_{1}}^{z_{2}} T_{V}\\left(z_{1}, z\\right) f\\left(z\\right)\\,{d z}$"
      ],
      "text/plain": [
       "C*T_V(z_1, z_2)*T_V(z_3, z_4) + K*T_V(z_1, z_2)*integrate(T_V(z_3, z)*f(z), z, z_3, z_4) + K*integrate(T_V(z_1, z)*f(z), z, z_1, z_2)"
      ]
     },
     "metadata": {},
     "output_type": "display_data"
    },
    {
     "data": {
      "text/plain": [
       "C T_{V}\\left(z_{1}, z_{2}\\right) T_{V}\\left(z_{3}, z_{4}\\right) + K T_{V}\\left(z_{1}, z_{2}\\right) \\int_{z_{3}}^{z_{4}} T_{V}\\left(z_{3}, z\\right) f\\left(z\\right)\\,{d z} + K \\int_{z_{1}}^{z_{2}} T_{V}\\left(z_{1}, z\\right) f\\left(z\\right)\\,{d z}"
      ]
     },
     "execution_count": 23,
     "metadata": {},
     "output_type": "execute_result"
    }
   ],
   "source": [
    "step2 = step1.expand(); pretty_print(step2); latex(step2)"
   ]
  },
  {
   "cell_type": "code",
   "execution_count": 24,
   "id": "b87ea86a-80e4-45f5-8266-517738cc9d7f",
   "metadata": {},
   "outputs": [
    {
     "data": {
      "text/html": [
       "<html>\\(\\displaystyle T_{V}\\left(z_{1}, z_{2}\\right) T_{V}\\left(z_{3}, z_{4}\\right) = T_{V}\\left(z_{1}, z_{4}\\right)\\)</html>"
      ],
      "text/latex": [
       "$\\displaystyle T_{V}\\left(z_{1}, z_{2}\\right) T_{V}\\left(z_{3}, z_{4}\\right) = T_{V}\\left(z_{1}, z_{4}\\right)$"
      ],
      "text/plain": [
       "T_V(z_1, z_2)*T_V(z_3, z_4) == T_V(z_1, z_4)"
      ]
     },
     "metadata": {},
     "output_type": "display_data"
    },
    {
     "data": {
      "text/plain": [
       "T_{V}\\left(z_{1}, z_{2}\\right) T_{V}\\left(z_{3}, z_{4}\\right) = T_{V}\\left(z_{1}, z_{4}\\right)"
      ]
     },
     "execution_count": 24,
     "metadata": {},
     "output_type": "execute_result"
    }
   ],
   "source": [
    "result1 = T_V(z3,z4) * T_V(z1, z2) == T_V(z1, z4); pretty_print(result1); latex(result1)"
   ]
  },
  {
   "cell_type": "code",
   "execution_count": 25,
   "id": "d985edd2-c5a5-4ef5-9975-ddba8c38fafb",
   "metadata": {},
   "outputs": [
    {
     "data": {
      "text/html": [
       "<html>\\(\\displaystyle T_{V}\\left(z_{1}, z_{2}\\right) T_{V}\\left(z_{3}, z\\right) = T_{V}\\left(z_{1}, z\\right)\\)</html>"
      ],
      "text/latex": [
       "$\\displaystyle T_{V}\\left(z_{1}, z_{2}\\right) T_{V}\\left(z_{3}, z\\right) = T_{V}\\left(z_{1}, z\\right)$"
      ],
      "text/plain": [
       "T_V(z_1, z_2)*T_V(z_3, z) == T_V(z_1, z)"
      ]
     },
     "metadata": {},
     "output_type": "display_data"
    },
    {
     "data": {
      "text/plain": [
       "T_{V}\\left(z_{1}, z_{2}\\right) T_{V}\\left(z_{3}, z\\right) = T_{V}\\left(z_{1}, z\\right)"
      ]
     },
     "execution_count": 25,
     "metadata": {},
     "output_type": "execute_result"
    }
   ],
   "source": [
    "result2 = T_V(z1,z2) * T_V(z3,z) == T_V(z1, z); pretty_print(result2); latex(result2)"
   ]
  },
  {
   "cell_type": "code",
   "execution_count": 26,
   "id": "9b26422d-e771-45e9-922e-629388921e2b",
   "metadata": {},
   "outputs": [
    {
     "data": {
      "text/html": [
       "<html>\\(\\displaystyle C T_{V}\\left(z_{1}, z_{4}\\right) + K \\int_{z_{1}}^{z_{2}} T_{V}\\left(z_{1}, z\\right) f\\left(z\\right)\\,{d z} + K \\int_{z_{3}}^{z_{4}} T_{V}\\left(z_{1}, z\\right) f\\left(z\\right)\\,{d z}\\)</html>"
      ],
      "text/latex": [
       "$\\displaystyle C T_{V}\\left(z_{1}, z_{4}\\right) + K \\int_{z_{1}}^{z_{2}} T_{V}\\left(z_{1}, z\\right) f\\left(z\\right)\\,{d z} + K \\int_{z_{3}}^{z_{4}} T_{V}\\left(z_{1}, z\\right) f\\left(z\\right)\\,{d z}$"
      ],
      "text/plain": [
       "C*T_V(z_1, z_4) + K*integrate(T_V(z_1, z)*f(z), z, z_1, z_2) + K*integrate(T_V(z_1, z)*f(z), z, z_3, z_4)"
      ]
     },
     "metadata": {},
     "output_type": "display_data"
    },
    {
     "data": {
      "text/plain": [
       "C T_{V}\\left(z_{1}, z_{4}\\right) + K \\int_{z_{1}}^{z_{2}} T_{V}\\left(z_{1}, z\\right) f\\left(z\\right)\\,{d z} + K \\int_{z_{3}}^{z_{4}} T_{V}\\left(z_{1}, z\\right) f\\left(z\\right)\\,{d z}"
      ]
     },
     "execution_count": 26,
     "metadata": {},
     "output_type": "execute_result"
    }
   ],
   "source": [
    "step3 = C * T_V(z1, z4) + K * integral(f * T_V(z1, z), z, z3, z4) + K * integral(f * T_V(z1, z), z, z1, z2); pretty_print(step3); latex(step3)"
   ]
  },
  {
   "cell_type": "code",
   "execution_count": 27,
   "id": "1614af11-424a-469a-938c-edf2c250e3d4",
   "metadata": {},
   "outputs": [
    {
     "data": {
      "text/html": [
       "<html>\\(\\displaystyle C T_{V}\\left(z_{1}, z_{4}\\right) + K \\int_{z_{1}}^{z_{4}} T_{V}\\left(z_{1}, z\\right) f\\left(z\\right)\\,{d z}\\)</html>"
      ],
      "text/latex": [
       "$\\displaystyle C T_{V}\\left(z_{1}, z_{4}\\right) + K \\int_{z_{1}}^{z_{4}} T_{V}\\left(z_{1}, z\\right) f\\left(z\\right)\\,{d z}$"
      ],
      "text/plain": [
       "C*T_V(z_1, z_4) + K*integrate(T_V(z_1, z)*f(z), z, z_1, z_4)"
      ]
     },
     "metadata": {},
     "output_type": "display_data"
    },
    {
     "data": {
      "text/plain": [
       "C T_{V}\\left(z_{1}, z_{4}\\right) + K \\int_{z_{1}}^{z_{4}} T_{V}\\left(z_{1}, z\\right) f\\left(z\\right)\\,{d z}"
      ]
     },
     "execution_count": 27,
     "metadata": {},
     "output_type": "execute_result"
    }
   ],
   "source": [
    "final_result = eqn(C, z1, z4); pretty_print(final_result); latex(final_result)"
   ]
  },
  {
   "cell_type": "markdown",
   "id": "1d3a991d-9be2-43de-9373-20926596db8a",
   "metadata": {
    "jp-MarkdownHeadingCollapsed": true
   },
   "source": [
    "## Basic rendering equation"
   ]
  },
  {
   "cell_type": "code",
   "execution_count": 28,
   "id": "b3d91ee9-3001-4fea-9c32-9d2f60880ab1",
   "metadata": {},
   "outputs": [],
   "source": [
    "def optical_thickness(f, lower_limit, upper_limit):\n",
    "    return integral(f(x), x, lower_limit, upper_limit, hold=True)"
   ]
  },
  {
   "cell_type": "code",
   "execution_count": 29,
   "id": "a1c88e45-3105-4cdf-b82e-be029288e455",
   "metadata": {},
   "outputs": [],
   "source": [
    "def transmittance(f, lower_limit, upper_limit):\n",
    "    return exp(-optical_thickness(f, lower_limit, upper_limit).factor())"
   ]
  },
  {
   "cell_type": "code",
   "execution_count": 30,
   "id": "e53d2480-2c0c-4651-aebb-1d7b09055c6a",
   "metadata": {},
   "outputs": [],
   "source": [
    "z_1, z_2 = var('z_1 z_2')"
   ]
  },
  {
   "cell_type": "code",
   "execution_count": 31,
   "id": "7d7b660e-f198-4955-90b9-acb037b03d65",
   "metadata": {},
   "outputs": [],
   "source": [
    "#T_V(z_1, z_2) = transmittance(sigma_t, z_1, z_2); pretty_print(T_V(z_1, z_2))"
   ]
  },
  {
   "cell_type": "code",
   "execution_count": 32,
   "id": "86e77d62-afcd-4f5f-a8db-e56eaf197622",
   "metadata": {},
   "outputs": [],
   "source": [
    "y = var('y')"
   ]
  },
  {
   "cell_type": "code",
   "execution_count": 33,
   "id": "cec50ecc-0fb0-4d3c-9f83-7e3dbf42f3b6",
   "metadata": {},
   "outputs": [],
   "source": [
    "tau_V = function('tau_V')(z_1, z_2)"
   ]
  },
  {
   "cell_type": "code",
   "execution_count": 34,
   "id": "dc81839f-c33b-49fc-8f75-87f644520ecb",
   "metadata": {},
   "outputs": [
    {
     "data": {
      "text/html": [
       "<html>\\(\\displaystyle \\tau_{V}\\left(z_{1}, z_{2}\\right) = \\int_{z_{1}}^{z_{2}} \\sigma_{t}\\left(x\\right)\\,{d x}\\)</html>"
      ],
      "text/latex": [
       "$\\displaystyle \\tau_{V}\\left(z_{1}, z_{2}\\right) = \\int_{z_{1}}^{z_{2}} \\sigma_{t}\\left(x\\right)\\,{d x}$"
      ],
      "text/plain": [
       "tau_V(z_1, z_2) == integrate(sigma_t(x), x, z_1, z_2)"
      ]
     },
     "metadata": {},
     "output_type": "display_data"
    }
   ],
   "source": [
    "pretty_print(tau_V == optical_thickness(sigma_t, z_1, z_2))"
   ]
  },
  {
   "cell_type": "code",
   "execution_count": 35,
   "id": "5d9942de-2554-4c59-9273-8dd1ef5641df",
   "metadata": {},
   "outputs": [
    {
     "data": {
      "text/plain": [
       "\\tau_{V}\\left(z_{1}, z_{2}\\right) = \\int_{z_{1}}^{z_{2}} \\sigma_{t}\\left(x\\right)\\,{d x}"
      ]
     },
     "execution_count": 35,
     "metadata": {},
     "output_type": "execute_result"
    }
   ],
   "source": [
    "latex(tau_V == optical_thickness(sigma_t, z_1, z_2))"
   ]
  },
  {
   "cell_type": "code",
   "execution_count": 36,
   "id": "3310d67b-a2d7-443e-a5b0-34c84face233",
   "metadata": {},
   "outputs": [
    {
     "data": {
      "text/plain": [
       "T_{V}\\left(z_{1}, z_{2}\\right) = e^{\\left(-\\tau_{V}\\left(z_{1}, z_{2}\\right)\\right)}"
      ]
     },
     "execution_count": 36,
     "metadata": {},
     "output_type": "execute_result"
    }
   ],
   "source": [
    "latex(T_V(z_1, z_2) == exp(-tau_V))"
   ]
  },
  {
   "cell_type": "code",
   "execution_count": 37,
   "id": "a83969cf-32e2-4113-aeab-20f7975583cb",
   "metadata": {},
   "outputs": [
    {
     "data": {
      "text/plain": [
       "sigma"
      ]
     },
     "execution_count": 37,
     "metadata": {},
     "output_type": "execute_result"
    }
   ],
   "source": [
    "extinction = var('sigma'); extinction"
   ]
  },
  {
   "cell_type": "code",
   "execution_count": 38,
   "id": "4833e035-7b1b-4636-904b-36d219d1639a",
   "metadata": {},
   "outputs": [],
   "source": [
    "sigma_t(x) = extinction"
   ]
  },
  {
   "cell_type": "code",
   "execution_count": 39,
   "id": "8ae80d61-f7be-44f0-b5f2-d1ac49bd6238",
   "metadata": {},
   "outputs": [
    {
     "data": {
      "text/html": [
       "<html>\\(\\displaystyle \\left( z_{\\mathit{min}}, z \\right) \\ {\\mapsto} \\ e^{\\left(-\\sigma {\\left(z - z_{\\mathit{min}}\\right)}\\right)}\\)</html>"
      ],
      "text/latex": [
       "$\\displaystyle \\left( z_{\\mathit{min}}, z \\right) \\ {\\mapsto} \\ e^{\\left(-\\sigma {\\left(z - z_{\\mathit{min}}\\right)}\\right)}$"
      ],
      "text/plain": [
       "(z_min, z) |--> e^(-sigma*(z - z_min))"
      ]
     },
     "metadata": {},
     "output_type": "display_data"
    }
   ],
   "source": [
    "T_V(z_min, z) = transmittance(sigma_t, z_min, z); pretty_print(T_V)"
   ]
  },
  {
   "cell_type": "code",
   "execution_count": 40,
   "id": "ae93679e-4cf0-4b82-b0e9-e10f0676dfaf",
   "metadata": {},
   "outputs": [
    {
     "data": {
      "text/html": [
       "<html>\\(\\displaystyle z \\ {\\mapsto}\\ 1\\)</html>"
      ],
      "text/latex": [
       "$\\displaystyle z \\ {\\mapsto}\\ 1$"
      ],
      "text/plain": [
       "z |--> 1"
      ]
     },
     "metadata": {},
     "output_type": "display_data"
    }
   ],
   "source": [
    "T_L(z) = 1; pretty_print(T_L)"
   ]
  },
  {
   "cell_type": "code",
   "execution_count": 41,
   "id": "90456856-5dc7-400d-b21a-01b15da26b19",
   "metadata": {},
   "outputs": [
    {
     "data": {
      "text/html": [
       "<html>\\(\\displaystyle z \\ {\\mapsto}\\ 1\\)</html>"
      ],
      "text/latex": [
       "$\\displaystyle z \\ {\\mapsto}\\ 1$"
      ],
      "text/plain": [
       "z |--> 1"
      ]
     },
     "metadata": {},
     "output_type": "display_data"
    }
   ],
   "source": [
    "Vis(z) = 1; pretty_print(Vis)"
   ]
  },
  {
   "cell_type": "code",
   "execution_count": 42,
   "id": "6b7949fb-2383-4cb8-bf5a-b831cb45ae7f",
   "metadata": {},
   "outputs": [
    {
     "data": {
      "text/html": [
       "<html>\\(\\displaystyle {\\left(e^{\\left(\\sigma z_{\\mathit{max}}\\right)} - e^{\\left(\\sigma z_{\\mathit{min}}\\right)}\\right)} e^{\\left(-\\sigma z_{\\mathit{max}}\\right)}\\)</html>"
      ],
      "text/latex": [
       "$\\displaystyle {\\left(e^{\\left(\\sigma z_{\\mathit{max}}\\right)} - e^{\\left(\\sigma z_{\\mathit{min}}\\right)}\\right)} e^{\\left(-\\sigma z_{\\mathit{max}}\\right)}$"
      ],
      "text/plain": [
       "(e^(sigma*z_max) - e^(sigma*z_min))*e^(-sigma*z_max)"
      ]
     },
     "metadata": {},
     "output_type": "display_data"
    }
   ],
   "source": [
    "pretty_print(rendering_integral().simplify_full())"
   ]
  },
  {
   "cell_type": "markdown",
   "id": "119d09af-07d0-4df4-b550-46b5ba8c3a0c",
   "metadata": {},
   "source": [
    "## Rendering equation with self-shadowing"
   ]
  },
  {
   "cell_type": "code",
   "execution_count": 43,
   "id": "d180e75b-cc71-4167-972a-40345e632ed9",
   "metadata": {},
   "outputs": [],
   "source": [
    "def light_ray_optical_thickness(z):\n",
    "    return O_min + ((z - z_min) / (z_max - z_min)) * (O_max - O_min)"
   ]
  },
  {
   "cell_type": "code",
   "execution_count": 44,
   "id": "7e1b29ba-fce3-4f22-827e-252a48e312aa",
   "metadata": {},
   "outputs": [
    {
     "data": {
      "text/html": [
       "<html>\\(\\displaystyle e^{\\left(-\\tau_{\\mathit{min}} - \\frac{{\\left(\\tau_{\\mathit{max}} - \\tau_{\\mathit{min}}\\right)} {\\left(z - z_{\\mathit{min}}\\right)}}{z_{\\mathit{max}} - z_{\\mathit{min}}}\\right)}\\)</html>"
      ],
      "text/latex": [
       "$\\displaystyle e^{\\left(-\\tau_{\\mathit{min}} - \\frac{{\\left(\\tau_{\\mathit{max}} - \\tau_{\\mathit{min}}\\right)} {\\left(z - z_{\\mathit{min}}\\right)}}{z_{\\mathit{max}} - z_{\\mathit{min}}}\\right)}$"
      ],
      "text/plain": [
       "e^(-tau_min - (tau_max - tau_min)*(z - z_min)/(z_max - z_min))"
      ]
     },
     "metadata": {},
     "output_type": "display_data"
    }
   ],
   "source": [
    "T_L(z) = exp(-light_ray_optical_thickness(z)); pretty_print(T_L(z))"
   ]
  },
  {
   "cell_type": "code",
   "execution_count": 45,
   "id": "65833110-7b0b-4a87-a0ed-355ee2964388",
   "metadata": {},
   "outputs": [
    {
     "data": {
      "text/plain": [
       "e^{\\left(-\\tau_{\\mathit{min}} - \\frac{{\\left(\\tau_{\\mathit{max}} - \\tau_{\\mathit{min}}\\right)} {\\left(z - z_{\\mathit{min}}\\right)}}{z_{\\mathit{max}} - z_{\\mathit{min}}}\\right)}"
      ]
     },
     "execution_count": 45,
     "metadata": {},
     "output_type": "execute_result"
    }
   ],
   "source": [
    "latex(T_L(z))"
   ]
  },
  {
   "cell_type": "code",
   "execution_count": 46,
   "id": "9a58bdf9-bfba-4444-b679-838176841b2f",
   "metadata": {},
   "outputs": [
    {
     "data": {
      "text/html": [
       "<html>\\(\\displaystyle \\frac{\\sigma {\\left(z_{\\mathit{max}} - z_{\\mathit{min}}\\right)} {\\left(e^{\\left(\\sigma z_{\\mathit{max}} + \\tau_{\\mathit{max}}\\right)} - e^{\\left(\\sigma z_{\\mathit{min}} + \\tau_{\\mathit{min}}\\right)}\\right)} e^{\\left(-\\sigma z_{\\mathit{max}} - \\tau_{\\mathit{max}} - \\tau_{\\mathit{min}}\\right)}}{\\sigma z_{\\mathit{max}} - \\sigma z_{\\mathit{min}} + \\tau_{\\mathit{max}} - \\tau_{\\mathit{min}}}\\)</html>"
      ],
      "text/latex": [
       "$\\displaystyle \\frac{\\sigma {\\left(z_{\\mathit{max}} - z_{\\mathit{min}}\\right)} {\\left(e^{\\left(\\sigma z_{\\mathit{max}} + \\tau_{\\mathit{max}}\\right)} - e^{\\left(\\sigma z_{\\mathit{min}} + \\tau_{\\mathit{min}}\\right)}\\right)} e^{\\left(-\\sigma z_{\\mathit{max}} - \\tau_{\\mathit{max}} - \\tau_{\\mathit{min}}\\right)}}{\\sigma z_{\\mathit{max}} - \\sigma z_{\\mathit{min}} + \\tau_{\\mathit{max}} - \\tau_{\\mathit{min}}}$"
      ],
      "text/plain": [
       "sigma*(z_max - z_min)*(e^(sigma*z_max + tau_max) - e^(sigma*z_min + tau_min))*e^(-sigma*z_max - tau_max - tau_min)/(sigma*z_max - sigma*z_min + tau_max - tau_min)"
      ]
     },
     "metadata": {},
     "output_type": "display_data"
    }
   ],
   "source": [
    "pretty_print(rendering_integral().factor())"
   ]
  },
  {
   "cell_type": "code",
   "execution_count": 47,
   "id": "ec43cd64-dcda-4aa9-a1d6-a05b153d3bcf",
   "metadata": {},
   "outputs": [
    {
     "data": {
      "text/html": [
       "<html>\\(\\displaystyle \\frac{\\sigma {\\left(z_{\\mathit{max}} - z_{\\mathit{min}}\\right)} {\\left(e^{\\left(\\sigma z_{\\mathit{max}} + \\tau_{\\mathit{max}}\\right)} - e^{\\left(\\sigma z_{\\mathit{min}} + \\tau_{\\mathit{min}}\\right)}\\right)} e^{\\left(-\\sigma z_{\\mathit{max}} - \\tau_{\\mathit{max}} - \\tau_{\\mathit{min}}\\right)}}{\\sigma z_{\\mathit{max}} - \\sigma z_{\\mathit{min}} + \\tau_{\\mathit{max}} - \\tau_{\\mathit{min}}}\\)</html>"
      ],
      "text/latex": [
       "$\\displaystyle \\frac{\\sigma {\\left(z_{\\mathit{max}} - z_{\\mathit{min}}\\right)} {\\left(e^{\\left(\\sigma z_{\\mathit{max}} + \\tau_{\\mathit{max}}\\right)} - e^{\\left(\\sigma z_{\\mathit{min}} + \\tau_{\\mathit{min}}\\right)}\\right)} e^{\\left(-\\sigma z_{\\mathit{max}} - \\tau_{\\mathit{max}} - \\tau_{\\mathit{min}}\\right)}}{\\sigma z_{\\mathit{max}} - \\sigma z_{\\mathit{min}} + \\tau_{\\mathit{max}} - \\tau_{\\mathit{min}}}$"
      ],
      "text/plain": [
       "sigma*(z_max - z_min)*(e^(sigma*z_max + tau_max) - e^(sigma*z_min + tau_min))*e^(-sigma*z_max - tau_max - tau_min)/(sigma*z_max - sigma*z_min + tau_max - tau_min)"
      ]
     },
     "metadata": {},
     "output_type": "display_data"
    },
    {
     "data": {
      "text/plain": [
       "\\frac{\\sigma {\\left(z_{\\mathit{max}} - z_{\\mathit{min}}\\right)} {\\left(e^{\\left(\\sigma z_{\\mathit{max}} + \\tau_{\\mathit{max}}\\right)} - e^{\\left(\\sigma z_{\\mathit{min}} + \\tau_{\\mathit{min}}\\right)}\\right)} e^{\\left(-\\sigma z_{\\mathit{max}} - \\tau_{\\mathit{max}} - \\tau_{\\mathit{min}}\\right)}}{\\sigma z_{\\mathit{max}} - \\sigma z_{\\mathit{min}} + \\tau_{\\mathit{max}} - \\tau_{\\mathit{min}}}"
      ]
     },
     "execution_count": 47,
     "metadata": {},
     "output_type": "execute_result"
    }
   ],
   "source": [
    "pretty_print(rendering_integral().factor()); latex(rendering_integral().factor())"
   ]
  },
  {
   "cell_type": "code",
   "execution_count": 48,
   "id": "2e8a616e-40be-40a7-9db6-3d8df55d19c2",
   "metadata": {},
   "outputs": [],
   "source": [
    "sigma_t(z) = sigma"
   ]
  },
  {
   "cell_type": "code",
   "execution_count": 49,
   "id": "f0083602-a351-4d38-914f-c8faf4b3c1e3",
   "metadata": {},
   "outputs": [
    {
     "data": {
      "text/html": [
       "<html>\\(\\displaystyle e^{\\left(-\\sigma {\\left(z - z_{\\mathit{min}}\\right)}\\right)}\\)</html>"
      ],
      "text/latex": [
       "$\\displaystyle e^{\\left(-\\sigma {\\left(z - z_{\\mathit{min}}\\right)}\\right)}$"
      ],
      "text/plain": [
       "e^(-sigma*(z - z_min))"
      ]
     },
     "metadata": {},
     "output_type": "display_data"
    }
   ],
   "source": [
    "pretty_print(T_V(z_min, z))"
   ]
  },
  {
   "cell_type": "markdown",
   "id": "905f4547-6215-4a4f-98c0-01b32e59ac17",
   "metadata": {},
   "source": [
    "## Extinction falloff"
   ]
  },
  {
   "cell_type": "code",
   "execution_count": 50,
   "id": "71c02e60-2fca-40d0-bca3-711bc3f860bc",
   "metadata": {},
   "outputs": [],
   "source": [
    "falloff(l) = exp(-50 * l ^ 2 / u ^ 2)"
   ]
  },
  {
   "cell_type": "code",
   "execution_count": 51,
   "id": "7e07a531-8696-4b4f-86e9-adc7776685c7",
   "metadata": {},
   "outputs": [],
   "source": [
    "def extinction(z, sigma):\n",
    "    l = sqrt(d^2 + (z - z_min)^2 - 2 * d * (z-z_min) * cos(alpha))\n",
    "    ext = sigma * falloff(l)    \n",
    "    return ext"
   ]
  },
  {
   "cell_type": "code",
   "execution_count": 52,
   "id": "495a7c5c-9bf1-44a5-a8d3-b9d07d41ced9",
   "metadata": {},
   "outputs": [
    {
     "data": {
      "text/html": [
       "<html>\\(\\displaystyle l = \\sqrt{-2 \\, d {\\left(z - z_{\\mathit{min}}\\right)} \\cos\\left(\\alpha\\right) + d^{2} + {\\left(z - z_{\\mathit{min}}\\right)}^{2}}\\)</html>"
      ],
      "text/latex": [
       "$\\displaystyle l = \\sqrt{-2 \\, d {\\left(z - z_{\\mathit{min}}\\right)} \\cos\\left(\\alpha\\right) + d^{2} + {\\left(z - z_{\\mathit{min}}\\right)}^{2}}$"
      ],
      "text/plain": [
       "l == sqrt(-2*d*(z - z_min)*cos(alpha) + d^2 + (z - z_min)^2)"
      ]
     },
     "metadata": {},
     "output_type": "display_data"
    }
   ],
   "source": [
    "pretty_print(l == sqrt(d^2 + (z - z_min)^2 - 2 * d * (z-z_min) * cos(alpha)))"
   ]
  },
  {
   "cell_type": "code",
   "execution_count": 53,
   "id": "7492f73c-303e-447d-8874-0c31706d18ce",
   "metadata": {},
   "outputs": [
    {
     "data": {
      "text/plain": [
       "l = \\sqrt{-2 \\, d {\\left(z - z_{\\mathit{min}}\\right)} \\cos\\left(\\alpha\\right) + d^{2} + {\\left(z - z_{\\mathit{min}}\\right)}^{2}}"
      ]
     },
     "execution_count": 53,
     "metadata": {},
     "output_type": "execute_result"
    }
   ],
   "source": [
    "latex(l == sqrt(d^2 + (z - z_min)^2 - 2 * d * (z-z_min) * cos(alpha)))"
   ]
  },
  {
   "cell_type": "markdown",
   "id": "82c56844-a853-460e-922f-b646870f681c",
   "metadata": {},
   "source": [
    "* `d` is the distance between the point of entry and the particle centre.\n",
    "* `alpha` is the angle between the view ray and the vector from the point of entry to the particle centre. "
   ]
  },
  {
   "cell_type": "markdown",
   "id": "aeb39eb5-5272-4d7d-8363-2a721e6e942c",
   "metadata": {},
   "source": [
    "## Rendering equation with self-shadowing and extinction fading"
   ]
  },
  {
   "cell_type": "code",
   "execution_count": 54,
   "id": "3683f646-de75-4dba-a8d6-491ffad5a4dc",
   "metadata": {},
   "outputs": [
    {
     "data": {
      "text/html": [
       "<html>\\(\\displaystyle \\sigma e^{\\left(\\frac{50 \\, {\\left(2 \\, d {\\left(z - z_{\\mathit{min}}\\right)} \\cos\\left(\\alpha\\right) - d^{2} - {\\left(z - z_{\\mathit{min}}\\right)}^{2}\\right)}}{u^{2}}\\right)}\\)</html>"
      ],
      "text/latex": [
       "$\\displaystyle \\sigma e^{\\left(\\frac{50 \\, {\\left(2 \\, d {\\left(z - z_{\\mathit{min}}\\right)} \\cos\\left(\\alpha\\right) - d^{2} - {\\left(z - z_{\\mathit{min}}\\right)}^{2}\\right)}}{u^{2}}\\right)}$"
      ],
      "text/plain": [
       "sigma*e^(50*(2*d*(z - z_min)*cos(alpha) - d^2 - (z - z_min)^2)/u^2)"
      ]
     },
     "metadata": {},
     "output_type": "display_data"
    }
   ],
   "source": [
    "pretty_print(extinction(z, var('sigma')))"
   ]
  },
  {
   "cell_type": "code",
   "execution_count": 55,
   "id": "007f084e-763d-45e2-9e01-19d3b5161f69",
   "metadata": {},
   "outputs": [
    {
     "data": {
      "text/html": [
       "<html>\\(\\displaystyle \\sigma e^{\\left(\\frac{50 \\, {\\left(2 \\, d {\\left(z - z_{\\mathit{min}}\\right)} \\cos\\left(\\alpha\\right) - d^{2} - {\\left(z - z_{\\mathit{min}}\\right)}^{2}\\right)}}{u^{2}}\\right)}\\)</html>"
      ],
      "text/latex": [
       "$\\displaystyle \\sigma e^{\\left(\\frac{50 \\, {\\left(2 \\, d {\\left(z - z_{\\mathit{min}}\\right)} \\cos\\left(\\alpha\\right) - d^{2} - {\\left(z - z_{\\mathit{min}}\\right)}^{2}\\right)}}{u^{2}}\\right)}$"
      ],
      "text/plain": [
       "sigma*e^(50*(2*d*(z - z_min)*cos(alpha) - d^2 - (z - z_min)^2)/u^2)"
      ]
     },
     "metadata": {},
     "output_type": "display_data"
    }
   ],
   "source": [
    "sigma_t(z) = extinction(z, var('sigma')); pretty_print(sigma_t(z))"
   ]
  },
  {
   "cell_type": "code",
   "execution_count": 56,
   "id": "676ce88c-e6ff-4828-93f3-17e14112ca4f",
   "metadata": {},
   "outputs": [
    {
     "data": {
      "text/plain": [
       "\\sigma e^{\\left(\\frac{50 \\, {\\left(2 \\, d {\\left(z - z_{\\mathit{min}}\\right)} \\cos\\left(\\alpha\\right) - d^{2} - {\\left(z - z_{\\mathit{min}}\\right)}^{2}\\right)}}{u^{2}}\\right)}"
      ]
     },
     "execution_count": 56,
     "metadata": {},
     "output_type": "execute_result"
    }
   ],
   "source": [
    "latex(sigma_t(z))"
   ]
  },
  {
   "cell_type": "code",
   "execution_count": 57,
   "id": "793d1fa8-9dfd-4612-bd87-4d933756b475",
   "metadata": {},
   "outputs": [],
   "source": [
    "assume(u > 0)"
   ]
  },
  {
   "cell_type": "code",
   "execution_count": 58,
   "id": "1e9933a9-d627-4867-89b1-39158fb36131",
   "metadata": {},
   "outputs": [],
   "source": [
    "assume(sigma_t(z) > 0)"
   ]
  },
  {
   "cell_type": "code",
   "execution_count": 59,
   "id": "ce8b6904-19a2-4875-913d-580fd93f4d4f",
   "metadata": {},
   "outputs": [],
   "source": [
    "assume(z > z_min)"
   ]
  },
  {
   "cell_type": "code",
   "execution_count": 60,
   "id": "2686635e-36e6-4be6-a405-29bd8d980de9",
   "metadata": {},
   "outputs": [
    {
     "data": {
      "text/html": [
       "<html>\\(\\displaystyle \\left( z_{\\mathit{min}}, z \\right) \\ {\\mapsto} \\ e^{\\left(-\\frac{1}{20} \\, \\sqrt{2} \\sqrt{\\pi} \\sigma u {\\left(\\operatorname{erf}\\left(\\frac{5 \\, \\sqrt{2} d \\cos\\left(\\alpha\\right)}{u}\\right) - \\operatorname{erf}\\left(\\frac{5 \\, \\sqrt{2} {\\left(d \\cos\\left(\\alpha\\right) - z + z_{\\mathit{min}}\\right)}}{u}\\right)\\right)} e^{\\left(\\frac{50 \\, d^{2} \\cos\\left(\\alpha\\right)^{2}}{u^{2}} - \\frac{50 \\, d^{2}}{u^{2}}\\right)}\\right)}\\)</html>"
      ],
      "text/latex": [
       "$\\displaystyle \\left( z_{\\mathit{min}}, z \\right) \\ {\\mapsto} \\ e^{\\left(-\\frac{1}{20} \\, \\sqrt{2} \\sqrt{\\pi} \\sigma u {\\left(\\operatorname{erf}\\left(\\frac{5 \\, \\sqrt{2} d \\cos\\left(\\alpha\\right)}{u}\\right) - \\operatorname{erf}\\left(\\frac{5 \\, \\sqrt{2} {\\left(d \\cos\\left(\\alpha\\right) - z + z_{\\mathit{min}}\\right)}}{u}\\right)\\right)} e^{\\left(\\frac{50 \\, d^{2} \\cos\\left(\\alpha\\right)^{2}}{u^{2}} - \\frac{50 \\, d^{2}}{u^{2}}\\right)}\\right)}$"
      ],
      "text/plain": [
       "(z_min, z) |--> e^(-1/20*sqrt(2)*sqrt(pi)*sigma*u*(erf(5*sqrt(2)*d*cos(alpha)/u) - erf(5*sqrt(2)*(d*cos(alpha) - z + z_min)/u))*e^(50*d^2*cos(alpha)^2/u^2 - 50*d^2/u^2))"
      ]
     },
     "metadata": {},
     "output_type": "display_data"
    }
   ],
   "source": [
    "T_V(z_min, z) = transmittance(sigma_t, z_min, z).simplify(); pretty_print(T_V)"
   ]
  },
  {
   "cell_type": "code",
   "execution_count": 61,
   "id": "991c72b3-6020-4731-a1d6-262915f72bc8",
   "metadata": {},
   "outputs": [],
   "source": [
    "assume(z_max > z_min)"
   ]
  },
  {
   "cell_type": "code",
   "execution_count": 62,
   "id": "c7734e98-3655-49be-a063-189e7b7c4f21",
   "metadata": {},
   "outputs": [],
   "source": [
    "assume(u > 0)"
   ]
  },
  {
   "cell_type": "code",
   "execution_count": 63,
   "id": "5c9a0cee-fc06-4f5a-a63d-91eb2986ae2e",
   "metadata": {},
   "outputs": [],
   "source": [
    "assume(z_min <= z <= z_max)"
   ]
  },
  {
   "cell_type": "code",
   "execution_count": 64,
   "id": "123d168f-8d9a-4521-b424-ecb33eae964e",
   "metadata": {},
   "outputs": [
    {
     "data": {
      "text/html": [
       "<html>\\(\\displaystyle z \\ {\\mapsto}\\ e^{\\left(-\\tau_{\\mathit{min}} - \\frac{{\\left(\\tau_{\\mathit{max}} - \\tau_{\\mathit{min}}\\right)} {\\left(z - z_{\\mathit{min}}\\right)}}{z_{\\mathit{max}} - z_{\\mathit{min}}}\\right)}\\)</html>"
      ],
      "text/latex": [
       "$\\displaystyle z \\ {\\mapsto}\\ e^{\\left(-\\tau_{\\mathit{min}} - \\frac{{\\left(\\tau_{\\mathit{max}} - \\tau_{\\mathit{min}}\\right)} {\\left(z - z_{\\mathit{min}}\\right)}}{z_{\\mathit{max}} - z_{\\mathit{min}}}\\right)}$"
      ],
      "text/plain": [
       "z |--> e^(-tau_min - (tau_max - tau_min)*(z - z_min)/(z_max - z_min))"
      ]
     },
     "metadata": {},
     "output_type": "display_data"
    }
   ],
   "source": [
    "T_L(z) = exp(-light_ray_optical_thickness(z)); pretty_print(T_L)"
   ]
  },
  {
   "cell_type": "markdown",
   "id": "b017a1dd-b4dd-473d-974d-5eef83dd31bf",
   "metadata": {},
   "source": [
    "## Taylor series integration"
   ]
  },
  {
   "cell_type": "code",
   "execution_count": 65,
   "id": "ed6b2ae9-6021-4e74-a83f-37c27829dea6",
   "metadata": {},
   "outputs": [],
   "source": [
    "f = function('f')(z)"
   ]
  },
  {
   "cell_type": "code",
   "execution_count": 66,
   "id": "6c0f0b03-c128-46a3-8067-7ca284ed0d3e",
   "metadata": {},
   "outputs": [
    {
     "data": {
      "text/html": [
       "<html>\\(\\displaystyle -\\frac{1}{6} \\, {\\left(a - z\\right)}^{3} \\frac{\\partial^{3}}{(\\partial a)^{3}}f\\left(a\\right) + \\frac{1}{2} \\, {\\left(a - z\\right)}^{2} \\frac{\\partial^{2}}{(\\partial a)^{2}}f\\left(a\\right) - {\\left(a - z\\right)} \\frac{\\partial}{\\partial a}f\\left(a\\right) + f\\left(a\\right)\\)</html>"
      ],
      "text/latex": [
       "$\\displaystyle -\\frac{1}{6} \\, {\\left(a - z\\right)}^{3} \\frac{\\partial^{3}}{(\\partial a)^{3}}f\\left(a\\right) + \\frac{1}{2} \\, {\\left(a - z\\right)}^{2} \\frac{\\partial^{2}}{(\\partial a)^{2}}f\\left(a\\right) - {\\left(a - z\\right)} \\frac{\\partial}{\\partial a}f\\left(a\\right) + f\\left(a\\right)$"
      ],
      "text/plain": [
       "-1/6*(a - z)^3*diff(f(a), a, a, a) + 1/2*(a - z)^2*diff(f(a), a, a) - (a - z)*diff(f(a), a) + f(a)"
      ]
     },
     "metadata": {},
     "output_type": "display_data"
    }
   ],
   "source": [
    "taylor_series = f.taylor(z, var('a'), 3); pretty_print(taylor_series)"
   ]
  },
  {
   "cell_type": "code",
   "execution_count": 67,
   "id": "d2c44a6f-d4eb-4f4c-ae0c-8fba8f4cd9d7",
   "metadata": {},
   "outputs": [],
   "source": [
    "x, n, a = var('x n a')"
   ]
  },
  {
   "cell_type": "code",
   "execution_count": 68,
   "id": "19092db3-ffef-47b7-af91-8b0f22831eb0",
   "metadata": {},
   "outputs": [],
   "source": [
    "assume(n > 0)"
   ]
  },
  {
   "cell_type": "code",
   "execution_count": 69,
   "id": "55c72c30-b1d6-4a2d-9be2-4cf6ed4c8b51",
   "metadata": {},
   "outputs": [
    {
     "data": {
      "text/html": [
       "<html>\\(\\displaystyle \\frac{{\\left(-a + x\\right)}^{n + 1}}{{\\left(n + 1\\right)} n!}\\)</html>"
      ],
      "text/latex": [
       "$\\displaystyle \\frac{{\\left(-a + x\\right)}^{n + 1}}{{\\left(n + 1\\right)} n!}$"
      ],
      "text/plain": [
       "(-a + x)^(n + 1)/((n + 1)*factorial(n))"
      ]
     },
     "metadata": {},
     "output_type": "display_data"
    }
   ],
   "source": [
    "pretty_print(integrate((x - a)^n / factorial(n), x))"
   ]
  },
  {
   "cell_type": "code",
   "execution_count": 71,
   "id": "65ffa143-428c-4fe5-b5c6-dbde16f14f6d",
   "metadata": {},
   "outputs": [
    {
     "data": {
      "text/html": [
       "<html>\\(\\displaystyle n \\ {\\mapsto}\\ \\frac{{\\left(-a + x\\right)}^{n + 1}}{{\\left(n + 1\\right)} n!}\\)</html>"
      ],
      "text/latex": [
       "$\\displaystyle n \\ {\\mapsto}\\ \\frac{{\\left(-a + x\\right)}^{n + 1}}{{\\left(n + 1\\right)} n!}$"
      ],
      "text/plain": [
       "n |--> (-a + x)^(n + 1)/((n + 1)*factorial(n))"
      ]
     },
     "metadata": {},
     "output_type": "display_data"
    }
   ],
   "source": [
    "g(n) = integrate((x - a)^n / factorial(n), x); pretty_print(g)"
   ]
  },
  {
   "cell_type": "markdown",
   "id": "2dc7e37b-922c-4898-8e1c-dad780c16b3c",
   "metadata": {},
   "source": [
    "## Simpson's Rule Integration"
   ]
  },
  {
   "cell_type": "code",
   "execution_count": 72,
   "id": "7ec3018b-edeb-459a-bbdb-ee6b8ecb51eb",
   "metadata": {},
   "outputs": [
    {
     "data": {
      "text/html": [
       "<html>\\(\\displaystyle \\left( z_{\\mathit{min}}, z \\right) \\ {\\mapsto} \\ e^{\\left(-\\frac{1}{20} \\, \\sqrt{2} \\sqrt{\\pi} \\sigma u {\\left(\\operatorname{erf}\\left(\\frac{5 \\, \\sqrt{2} d \\cos\\left(\\alpha\\right)}{u}\\right) - \\operatorname{erf}\\left(\\frac{5 \\, \\sqrt{2} {\\left(d \\cos\\left(\\alpha\\right) - z + z_{\\mathit{min}}\\right)}}{u}\\right)\\right)} e^{\\left(\\frac{50 \\, d^{2} \\cos\\left(\\alpha\\right)^{2}}{u^{2}} - \\frac{50 \\, d^{2}}{u^{2}}\\right)}\\right)}\\)</html>"
      ],
      "text/latex": [
       "$\\displaystyle \\left( z_{\\mathit{min}}, z \\right) \\ {\\mapsto} \\ e^{\\left(-\\frac{1}{20} \\, \\sqrt{2} \\sqrt{\\pi} \\sigma u {\\left(\\operatorname{erf}\\left(\\frac{5 \\, \\sqrt{2} d \\cos\\left(\\alpha\\right)}{u}\\right) - \\operatorname{erf}\\left(\\frac{5 \\, \\sqrt{2} {\\left(d \\cos\\left(\\alpha\\right) - z + z_{\\mathit{min}}\\right)}}{u}\\right)\\right)} e^{\\left(\\frac{50 \\, d^{2} \\cos\\left(\\alpha\\right)^{2}}{u^{2}} - \\frac{50 \\, d^{2}}{u^{2}}\\right)}\\right)}$"
      ],
      "text/plain": [
       "(z_min, z) |--> e^(-1/20*sqrt(2)*sqrt(pi)*sigma*u*(erf(5*sqrt(2)*d*cos(alpha)/u) - erf(5*sqrt(2)*(d*cos(alpha) - z + z_min)/u))*e^(50*d^2*cos(alpha)^2/u^2 - 50*d^2/u^2))"
      ]
     },
     "metadata": {},
     "output_type": "display_data"
    }
   ],
   "source": [
    "pretty_print(T_V.simplify())"
   ]
  },
  {
   "cell_type": "code",
   "execution_count": 73,
   "id": "dc433966-306e-4bb6-b5de-fd8ba3f4f962",
   "metadata": {},
   "outputs": [
    {
     "data": {
      "text/plain": [
       "e^{\\left(-\\frac{1}{20} \\, \\sqrt{2} \\sqrt{\\pi} \\sigma u {\\left(\\operatorname{erf}\\left(\\frac{5 \\, \\sqrt{2} d \\cos\\left(\\alpha\\right)}{u}\\right) - \\operatorname{erf}\\left(\\frac{5 \\, \\sqrt{2} {\\left(d \\cos\\left(\\alpha\\right) - z + z_{\\mathit{min}}\\right)}}{u}\\right)\\right)} e^{\\left(\\frac{50 \\, d^{2} \\cos\\left(\\alpha\\right)^{2}}{u^{2}} - \\frac{50 \\, d^{2}}{u^{2}}\\right)}\\right)}"
      ]
     },
     "execution_count": 73,
     "metadata": {},
     "output_type": "execute_result"
    }
   ],
   "source": [
    "latex(T_V(z_min,z).simplify())"
   ]
  },
  {
   "cell_type": "code",
   "execution_count": 74,
   "id": "a3b2bbe9-cb20-45c6-b4bb-ba7c20b373ff",
   "metadata": {},
   "outputs": [
    {
     "data": {
      "text/html": [
       "<html>\\(\\displaystyle z \\ {\\mapsto}\\ \\sigma e^{\\left(\\frac{50 \\, {\\left(2 \\, d {\\left(z - z_{\\mathit{min}}\\right)} \\cos\\left(\\alpha\\right) - d^{2} - {\\left(z - z_{\\mathit{min}}\\right)}^{2}\\right)}}{u^{2}}\\right)}\\)</html>"
      ],
      "text/latex": [
       "$\\displaystyle z \\ {\\mapsto}\\ \\sigma e^{\\left(\\frac{50 \\, {\\left(2 \\, d {\\left(z - z_{\\mathit{min}}\\right)} \\cos\\left(\\alpha\\right) - d^{2} - {\\left(z - z_{\\mathit{min}}\\right)}^{2}\\right)}}{u^{2}}\\right)}$"
      ],
      "text/plain": [
       "z |--> sigma*e^(50*(2*d*(z - z_min)*cos(alpha) - d^2 - (z - z_min)^2)/u^2)"
      ]
     },
     "metadata": {},
     "output_type": "display_data"
    }
   ],
   "source": [
    "pretty_print(sigma_t)"
   ]
  },
  {
   "cell_type": "code",
   "execution_count": 75,
   "id": "14fb0d55-680f-468d-93e2-fce823c2a2a2",
   "metadata": {},
   "outputs": [
    {
     "data": {
      "text/html": [
       "<html>\\(\\displaystyle z \\ {\\mapsto}\\ e^{\\left(-\\tau_{\\mathit{min}} - \\frac{{\\left(\\tau_{\\mathit{max}} - \\tau_{\\mathit{min}}\\right)} {\\left(z - z_{\\mathit{min}}\\right)}}{z_{\\mathit{max}} - z_{\\mathit{min}}}\\right)}\\)</html>"
      ],
      "text/latex": [
       "$\\displaystyle z \\ {\\mapsto}\\ e^{\\left(-\\tau_{\\mathit{min}} - \\frac{{\\left(\\tau_{\\mathit{max}} - \\tau_{\\mathit{min}}\\right)} {\\left(z - z_{\\mathit{min}}\\right)}}{z_{\\mathit{max}} - z_{\\mathit{min}}}\\right)}$"
      ],
      "text/plain": [
       "z |--> e^(-tau_min - (tau_max - tau_min)*(z - z_min)/(z_max - z_min))"
      ]
     },
     "metadata": {},
     "output_type": "display_data"
    }
   ],
   "source": [
    "pretty_print(T_L)"
   ]
  },
  {
   "cell_type": "markdown",
   "id": "0f6ec89c-6b45-4576-8420-7b4735e7f863",
   "metadata": {},
   "source": [
    "`Vis(z)` should be sampled from the shadow map."
   ]
  }
 ],
 "metadata": {
  "kernelspec": {
   "display_name": "SageMath 10.6",
   "language": "sage",
   "name": "sagemath"
  },
  "language_info": {
   "codemirror_mode": {
    "name": "ipython",
    "version": 3
   },
   "file_extension": ".py",
   "mimetype": "text/x-python",
   "name": "python",
   "nbconvert_exporter": "python",
   "pygments_lexer": "ipython3",
   "version": "3.11.13"
  }
 },
 "nbformat": 4,
 "nbformat_minor": 5
}
